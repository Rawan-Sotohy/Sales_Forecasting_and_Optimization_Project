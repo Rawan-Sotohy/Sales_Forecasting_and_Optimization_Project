{
 "cells": [
  {
   "attachments": {
    "image.png": {
     "image/png": "[encoded data removed]"
    }
   },
   "cell_type": "markdown",
   "id": "0bd254b8",
   "metadata": {},
   "source": [
    "![image.png](attachment:image.png)"
   ]
  },
  {
   "cell_type": "markdown",
   "id": "3009cbe3",
   "metadata": {},
   "source": [
    "# **Sales Forecasting and Optimization**"
   ]
  },
  {
   "cell_type": "markdown",
   "id": "26db153b",
   "metadata": {},
   "source": [
    "## **Data Description**\n",
    "This project uses historical retail sales data sourced from [Kaggle - Sales Forecasting Dataset](https://www.kaggle.com/datasets/rohitsahoo/sales-forecasting). The dataset (`train.csv`) contains 9,800 rows and 18 columns describing customer details, order information, product categories, and financial transactions. The goal of this project is to build a machine learning model that forecasts the **Sales** amount—our target variable—based on available features to support strategic decisions in sales optimization, inventory planning, and customer segmentation.\n",
    " \n",
    "---\n",
    "\n",
    "## **Data Dictionary**\n",
    "\n",
    "| Column Name      | Description                                                                 |\n",
    "|------------------|-----------------------------------------------------------------------------|\n",
    "| `Row ID`         | Unique numeric identifier for each row in the dataset.                      |\n",
    "| `Order ID`       | Unique identifier for each order.                                           |\n",
    "| `Order Date`     | The date when the order was placed. (Format: DD/MM/YYYY)                    |\n",
    "| `Ship Date`      | The date when the order was shipped. (Format: DD/MM/YYYY)                   |\n",
    "| `Ship Mode`      | Shipping method used (e.g., Second Class, Standard Class).                  |\n",
    "| `Customer ID`    | Unique identifier for each customer.                                        |\n",
    "| `Customer Name`  | Name of the customer who placed the order.                                  |\n",
    "| `Segment`        | Customer segment (e.g., Consumer, Corporate, Home Office).                  |\n",
    "| `Country`        | Country of the customer.                                                    |\n",
    "| `City`           | City of the customer.                                                       |\n",
    "| `State`          | State of the customer.                                                      |\n",
    "| `Postal Code`    | Postal/ZIP code (may contain missing values).                              |\n",
    "| `Region`         | Geographic region of the customer (e.g., West, South).                      |\n",
    "| `Product ID`     | Unique identifier for each product.                                         |\n",
    "| `Category`       | Main category of the product (e.g., Furniture, Office Supplies, Technology).|\n",
    "| `Sub-Category`   | Sub-category of the product (e.g., Chairs, Labels).                         |\n",
    "| `Product Name`   | Name of the product.                                                        |\n",
    "| `Sales`          | 💡 **Target** — Sale amount (in USD) for the product line.                  |\n",
    "\n",
    "---"
   ]
  },
  {
   "cell_type": "markdown",
   "id": "04e98216",
   "metadata": {},
   "source": [
    "## **Data Overview**"
   ]
  },
  {
   "cell_type": "markdown",
   "id": "550ee50e",
   "metadata": {},
   "source": [
    "### **Importing Libraries**"
   ]
  },
  {
   "cell_type": "code",
   "execution_count": 1421,
   "id": "5ff377a7-69bf-4dce-8d22-937b9549785b",
   "metadata": {},
   "outputs": [],
   "source": [
    "import pandas as pd\n",
    "import numpy as np\n",
    "import seaborn as sns\n",
    "import matplotlib.pyplot as plt\n",
    "from sklearn.preprocessing import LabelEncoder\n",
    "from datetime import datetime\n"
   ]
  },
  {
   "cell_type": "markdown",
   "id": "f08ec621",
   "metadata": {},
   "source": [
    "### **Data Exploration**"
   ]
  },
  {
   "cell_type": "code",
   "execution_count": 1422,
   "id": "b470e5f4-0955-4099-ba89-41ff58f62052",
   "metadata": {},
   "outputs": [],
   "source": [
    "df=pd.read_csv('train.csv')"
   ]
  },
  {
   "cell_type": "code",
   "execution_count": 1423,
   "id": "c924a7e9",
   "metadata": {},
   "outputs": [
    {
     "data": {
      "text/html": [
       "<div>\n",
       "<style scoped>\n",
       "    .dataframe tbody tr th:only-of-type {\n",
       "        vertical-align: middle;\n",
       "    }\n",
       "\n",
       "    .dataframe tbody tr th {\n",
       "        vertical-align: top;\n",
       "    }\n",
       "\n",
       "    .dataframe thead th {\n",
       "        text-align: right;\n",
       "    }\n",
       "</style>\n",
       "<table border=\"1\" class=\"dataframe\">\n",
       "  <thead>\n",
       "    <tr style=\"text-align: right;\">\n",
       "      <th></th>\n",
       "      <th>Row ID</th>\n",
       "      <th>Order ID</th>\n",
       "      <th>Order Date</th>\n",
       "      <th>Ship Date</th>\n",
       "      <th>Ship Mode</th>\n",
       "      <th>Customer ID</th>\n",
       "      <th>Customer Name</th>\n",
       "      <th>Segment</th>\n",
       "      <th>Country</th>\n",
       "      <th>City</th>\n",
       "      <th>State</th>\n",
       "      <th>Postal Code</th>\n",
       "      <th>Region</th>\n",
       "      <th>Product ID</th>\n",
       "      <th>Category</th>\n",
       "      <th>Sub-Category</th>\n",
       "      <th>Product Name</th>\n",
       "      <th>Sales</th>\n",
       "    </tr>\n",
       "  </thead>\n",
       "  <tbody>\n",
       "    <tr>\n",
       "      <th>0</th>\n",
       "      <td>1</td>\n",
       "      <td>CA-2017-152156</td>\n",
       "      <td>08/11/2017</td>\n",
       "      <td>11/11/2017</td>\n",
       "      <td>Second Class</td>\n",
       "      <td>CG-12520</td>\n",
       "      <td>Claire Gute</td>\n",
       "      <td>Consumer</td>\n",
       "      <td>United States</td>\n",
       "      <td>Henderson</td>\n",
       "      <td>Kentucky</td>\n",
       "      <td>42420.0</td>\n",
       "      <td>South</td>\n",
       "      <td>FUR-BO-10001798</td>\n",
       "      <td>Furniture</td>\n",
       "      <td>Bookcases</td>\n",
       "      <td>Bush Somerset Collection Bookcase</td>\n",
       "      <td>261.9600</td>\n",
       "    </tr>\n",
       "    <tr>\n",
       "      <th>1</th>\n",
       "      <td>2</td>\n",
       "      <td>CA-2017-152156</td>\n",
       "      <td>08/11/2017</td>\n",
       "      <td>11/11/2017</td>\n",
       "      <td>Second Class</td>\n",
       "      <td>CG-12520</td>\n",
       "      <td>Claire Gute</td>\n",
       "      <td>Consumer</td>\n",
       "      <td>United States</td>\n",
       "      <td>Henderson</td>\n",
       "      <td>Kentucky</td>\n",
       "      <td>42420.0</td>\n",
       "      <td>South</td>\n",
       "      <td>FUR-CH-10000454</td>\n",
       "      <td>Furniture</td>\n",
       "      <td>Chairs</td>\n",
       "      <td>Hon Deluxe Fabric Upholstered Stacking Chairs,...</td>\n",
       "      <td>731.9400</td>\n",
       "    </tr>\n",
       "    <tr>\n",
       "      <th>2</th>\n",
       "      <td>3</td>\n",
       "      <td>CA-2017-138688</td>\n",
       "      <td>12/06/2017</td>\n",
       "      <td>16/06/2017</td>\n",
       "      <td>Second Class</td>\n",
       "      <td>DV-13045</td>\n",
       "      <td>Darrin Van Huff</td>\n",
       "      <td>Corporate</td>\n",
       "      <td>United States</td>\n",
       "      <td>Los Angeles</td>\n",
       "      <td>California</td>\n",
       "      <td>90036.0</td>\n",
       "      <td>West</td>\n",
       "      <td>OFF-LA-10000240</td>\n",
       "      <td>Office Supplies</td>\n",
       "      <td>Labels</td>\n",
       "      <td>Self-Adhesive Address Labels for Typewriters b...</td>\n",
       "      <td>14.6200</td>\n",
       "    </tr>\n",
       "    <tr>\n",
       "      <th>3</th>\n",
       "      <td>4</td>\n",
       "      <td>US-2016-108966</td>\n",
       "      <td>11/10/2016</td>\n",
       "      <td>18/10/2016</td>\n",
       "      <td>Standard Class</td>\n",
       "      <td>SO-20335</td>\n",
       "      <td>Sean O'Donnell</td>\n",
       "      <td>Consumer</td>\n",
       "      <td>United States</td>\n",
       "      <td>Fort Lauderdale</td>\n",
       "      <td>Florida</td>\n",
       "      <td>33311.0</td>\n",
       "      <td>South</td>\n",
       "      <td>FUR-TA-10000577</td>\n",
       "      <td>Furniture</td>\n",
       "      <td>Tables</td>\n",
       "      <td>Bretford CR4500 Series Slim Rectangular Table</td>\n",
       "      <td>957.5775</td>\n",
       "    </tr>\n",
       "    <tr>\n",
       "      <th>4</th>\n",
       "      <td>5</td>\n",
       "      <td>US-2016-108966</td>\n",
       "      <td>11/10/2016</td>\n",
       "      <td>18/10/2016</td>\n",
       "      <td>Standard Class</td>\n",
       "      <td>SO-20335</td>\n",
       "      <td>Sean O'Donnell</td>\n",
       "      <td>Consumer</td>\n",
       "      <td>United States</td>\n",
       "      <td>Fort Lauderdale</td>\n",
       "      <td>Florida</td>\n",
       "      <td>33311.0</td>\n",
       "      <td>South</td>\n",
       "      <td>OFF-ST-10000760</td>\n",
       "      <td>Office Supplies</td>\n",
       "      <td>Storage</td>\n",
       "      <td>Eldon Fold 'N Roll Cart System</td>\n",
       "      <td>22.3680</td>\n",
       "    </tr>\n",
       "  </tbody>\n",
       "</table>\n",
       "</div>"
      ],
      "text/plain": [
       "   Row ID        Order ID  Order Date   Ship Date       Ship Mode Customer ID  \\\n",
       "0       1  CA-2017-152156  08/11/2017  11/11/2017    Second Class    CG-12520   \n",
       "1       2  CA-2017-152156  08/11/2017  11/11/2017    Second Class    CG-12520   \n",
       "2       3  CA-2017-138688  12/06/2017  16/06/2017    Second Class    DV-13045   \n",
       "3       4  US-2016-108966  11/10/2016  18/10/2016  Standard Class    SO-20335   \n",
       "4       5  US-2016-108966  11/10/2016  18/10/2016  Standard Class    SO-20335   \n",
       "\n",
       "     Customer Name    Segment        Country             City       State  \\\n",
       "0      Claire Gute   Consumer  United States        Henderson    Kentucky   \n",
       "1      Claire Gute   Consumer  United States        Henderson    Kentucky   \n",
       "2  Darrin Van Huff  Corporate  United States      Los Angeles  California   \n",
       "3   Sean O'Donnell   Consumer  United States  Fort Lauderdale     Florida   \n",
       "4   Sean O'Donnell   Consumer  United States  Fort Lauderdale     Florida   \n",
       "\n",
       "   Postal Code Region       Product ID         Category Sub-Category  \\\n",
       "0      42420.0  South  FUR-BO-10001798        Furniture    Bookcases   \n",
       "1      42420.0  South  FUR-CH-10000454        Furniture       Chairs   \n",
       "2      90036.0   West  OFF-LA-10000240  Office Supplies       Labels   \n",
       "3      33311.0  South  FUR-TA-10000577        Furniture       Tables   \n",
       "4      33311.0  South  OFF-ST-10000760  Office Supplies      Storage   \n",
       "\n",
       "                                        Product Name     Sales  \n",
       "0                  Bush Somerset Collection Bookcase  261.9600  \n",
       "1  Hon Deluxe Fabric Upholstered Stacking Chairs,...  731.9400  \n",
       "2  Self-Adhesive Address Labels for Typewriters b...   14.6200  \n",
       "3      Bretford CR4500 Series Slim Rectangular Table  957.5775  \n",
       "4                     Eldon Fold 'N Roll Cart System   22.3680  "
      ]
     },
     "execution_count": 1423,
     "metadata": {},
     "output_type": "execute_result"
    }
   ],
   "source": [
    "df.head()"
   ]
  },
  {
   "cell_type": "code",
   "execution_count": 1424,
   "id": "ad80bb1b-7f6a-4044-b4d4-29d1e540b4d4",
   "metadata": {},
   "outputs": [
    {
     "data": {
      "text/html": [
       "<div>\n",
       "<style scoped>\n",
       "    .dataframe tbody tr th:only-of-type {\n",
       "        vertical-align: middle;\n",
       "    }\n",
       "\n",
       "    .dataframe tbody tr th {\n",
       "        vertical-align: top;\n",
       "    }\n",
       "\n",
       "    .dataframe thead th {\n",
       "        text-align: right;\n",
       "    }\n",
       "</style>\n",
       "<table border=\"1\" class=\"dataframe\">\n",
       "  <thead>\n",
       "    <tr style=\"text-align: right;\">\n",
       "      <th></th>\n",
       "      <th>Row ID</th>\n",
       "      <th>Order ID</th>\n",
       "      <th>Order Date</th>\n",
       "      <th>Ship Date</th>\n",
       "      <th>Ship Mode</th>\n",
       "      <th>Customer ID</th>\n",
       "      <th>Customer Name</th>\n",
       "      <th>Segment</th>\n",
       "      <th>Country</th>\n",
       "      <th>City</th>\n",
       "      <th>State</th>\n",
       "      <th>Postal Code</th>\n",
       "      <th>Region</th>\n",
       "      <th>Product ID</th>\n",
       "      <th>Category</th>\n",
       "      <th>Sub-Category</th>\n",
       "      <th>Product Name</th>\n",
       "      <th>Sales</th>\n",
       "    </tr>\n",
       "  </thead>\n",
       "  <tbody>\n",
       "    <tr>\n",
       "      <th>9795</th>\n",
       "      <td>9796</td>\n",
       "      <td>CA-2017-125920</td>\n",
       "      <td>21/05/2017</td>\n",
       "      <td>28/05/2017</td>\n",
       "      <td>Standard Class</td>\n",
       "      <td>SH-19975</td>\n",
       "      <td>Sally Hughsby</td>\n",
       "      <td>Corporate</td>\n",
       "      <td>United States</td>\n",
       "      <td>Chicago</td>\n",
       "      <td>Illinois</td>\n",
       "      <td>60610.0</td>\n",
       "      <td>Central</td>\n",
       "      <td>OFF-BI-10003429</td>\n",
       "      <td>Office Supplies</td>\n",
       "      <td>Binders</td>\n",
       "      <td>Cardinal HOLDit! Binder Insert Strips,Extra St...</td>\n",
       "      <td>3.798</td>\n",
       "    </tr>\n",
       "    <tr>\n",
       "      <th>9796</th>\n",
       "      <td>9797</td>\n",
       "      <td>CA-2016-128608</td>\n",
       "      <td>12/01/2016</td>\n",
       "      <td>17/01/2016</td>\n",
       "      <td>Standard Class</td>\n",
       "      <td>CS-12490</td>\n",
       "      <td>Cindy Schnelling</td>\n",
       "      <td>Corporate</td>\n",
       "      <td>United States</td>\n",
       "      <td>Toledo</td>\n",
       "      <td>Ohio</td>\n",
       "      <td>43615.0</td>\n",
       "      <td>East</td>\n",
       "      <td>OFF-AR-10001374</td>\n",
       "      <td>Office Supplies</td>\n",
       "      <td>Art</td>\n",
       "      <td>BIC Brite Liner Highlighters, Chisel Tip</td>\n",
       "      <td>10.368</td>\n",
       "    </tr>\n",
       "    <tr>\n",
       "      <th>9797</th>\n",
       "      <td>9798</td>\n",
       "      <td>CA-2016-128608</td>\n",
       "      <td>12/01/2016</td>\n",
       "      <td>17/01/2016</td>\n",
       "      <td>Standard Class</td>\n",
       "      <td>CS-12490</td>\n",
       "      <td>Cindy Schnelling</td>\n",
       "      <td>Corporate</td>\n",
       "      <td>United States</td>\n",
       "      <td>Toledo</td>\n",
       "      <td>Ohio</td>\n",
       "      <td>43615.0</td>\n",
       "      <td>East</td>\n",
       "      <td>TEC-PH-10004977</td>\n",
       "      <td>Technology</td>\n",
       "      <td>Phones</td>\n",
       "      <td>GE 30524EE4</td>\n",
       "      <td>235.188</td>\n",
       "    </tr>\n",
       "    <tr>\n",
       "      <th>9798</th>\n",
       "      <td>9799</td>\n",
       "      <td>CA-2016-128608</td>\n",
       "      <td>12/01/2016</td>\n",
       "      <td>17/01/2016</td>\n",
       "      <td>Standard Class</td>\n",
       "      <td>CS-12490</td>\n",
       "      <td>Cindy Schnelling</td>\n",
       "      <td>Corporate</td>\n",
       "      <td>United States</td>\n",
       "      <td>Toledo</td>\n",
       "      <td>Ohio</td>\n",
       "      <td>43615.0</td>\n",
       "      <td>East</td>\n",
       "      <td>TEC-PH-10000912</td>\n",
       "      <td>Technology</td>\n",
       "      <td>Phones</td>\n",
       "      <td>Anker 24W Portable Micro USB Car Charger</td>\n",
       "      <td>26.376</td>\n",
       "    </tr>\n",
       "    <tr>\n",
       "      <th>9799</th>\n",
       "      <td>9800</td>\n",
       "      <td>CA-2016-128608</td>\n",
       "      <td>12/01/2016</td>\n",
       "      <td>17/01/2016</td>\n",
       "      <td>Standard Class</td>\n",
       "      <td>CS-12490</td>\n",
       "      <td>Cindy Schnelling</td>\n",
       "      <td>Corporate</td>\n",
       "      <td>United States</td>\n",
       "      <td>Toledo</td>\n",
       "      <td>Ohio</td>\n",
       "      <td>43615.0</td>\n",
       "      <td>East</td>\n",
       "      <td>TEC-AC-10000487</td>\n",
       "      <td>Technology</td>\n",
       "      <td>Accessories</td>\n",
       "      <td>SanDisk Cruzer 4 GB USB Flash Drive</td>\n",
       "      <td>10.384</td>\n",
       "    </tr>\n",
       "  </tbody>\n",
       "</table>\n",
       "</div>"
      ],
      "text/plain": [
       "      Row ID        Order ID  Order Date   Ship Date       Ship Mode  \\\n",
       "9795    9796  CA-2017-125920  21/05/2017  28/05/2017  Standard Class   \n",
       "9796    9797  CA-2016-128608  12/01/2016  17/01/2016  Standard Class   \n",
       "9797    9798  CA-2016-128608  12/01/2016  17/01/2016  Standard Class   \n",
       "9798    9799  CA-2016-128608  12/01/2016  17/01/2016  Standard Class   \n",
       "9799    9800  CA-2016-128608  12/01/2016  17/01/2016  Standard Class   \n",
       "\n",
       "     Customer ID     Customer Name    Segment        Country     City  \\\n",
       "9795    SH-19975     Sally Hughsby  Corporate  United States  Chicago   \n",
       "9796    CS-12490  Cindy Schnelling  Corporate  United States   Toledo   \n",
       "9797    CS-12490  Cindy Schnelling  Corporate  United States   Toledo   \n",
       "9798    CS-12490  Cindy Schnelling  Corporate  United States   Toledo   \n",
       "9799    CS-12490  Cindy Schnelling  Corporate  United States   Toledo   \n",
       "\n",
       "         State  Postal Code   Region       Product ID         Category  \\\n",
       "9795  Illinois      60610.0  Central  OFF-BI-10003429  Office Supplies   \n",
       "9796      Ohio      43615.0     East  OFF-AR-10001374  Office Supplies   \n",
       "9797      Ohio      43615.0     East  TEC-PH-10004977       Technology   \n",
       "9798      Ohio      43615.0     East  TEC-PH-10000912       Technology   \n",
       "9799      Ohio      43615.0     East  TEC-AC-10000487       Technology   \n",
       "\n",
       "     Sub-Category                                       Product Name    Sales  \n",
       "9795      Binders  Cardinal HOLDit! Binder Insert Strips,Extra St...    3.798  \n",
       "9796          Art           BIC Brite Liner Highlighters, Chisel Tip   10.368  \n",
       "9797       Phones                                        GE 30524EE4  235.188  \n",
       "9798       Phones           Anker 24W Portable Micro USB Car Charger   26.376  \n",
       "9799  Accessories                SanDisk Cruzer 4 GB USB Flash Drive   10.384  "
      ]
     },
     "execution_count": 1424,
     "metadata": {},
     "output_type": "execute_result"
    }
   ],
   "source": [
    "df.tail()"
   ]
  },
  {
   "cell_type": "code",
   "execution_count": 1425,
   "id": "8eee86cb",
   "metadata": {},
   "outputs": [
    {
     "data": {
      "text/html": [
       "<div>\n",
       "<style scoped>\n",
       "    .dataframe tbody tr th:only-of-type {\n",
       "        vertical-align: middle;\n",
       "    }\n",
       "\n",
       "    .dataframe tbody tr th {\n",
       "        vertical-align: top;\n",
       "    }\n",
       "\n",
       "    .dataframe thead th {\n",
       "        text-align: right;\n",
       "    }\n",
       "</style>\n",
       "<table border=\"1\" class=\"dataframe\">\n",
       "  <thead>\n",
       "    <tr style=\"text-align: right;\">\n",
       "      <th></th>\n",
       "      <th>Row ID</th>\n",
       "      <th>Order ID</th>\n",
       "      <th>Order Date</th>\n",
       "      <th>Ship Date</th>\n",
       "      <th>Ship Mode</th>\n",
       "      <th>Customer ID</th>\n",
       "      <th>Customer Name</th>\n",
       "      <th>Segment</th>\n",
       "      <th>Country</th>\n",
       "      <th>City</th>\n",
       "      <th>State</th>\n",
       "      <th>Postal Code</th>\n",
       "      <th>Region</th>\n",
       "      <th>Product ID</th>\n",
       "      <th>Category</th>\n",
       "      <th>Sub-Category</th>\n",
       "      <th>Product Name</th>\n",
       "      <th>Sales</th>\n",
       "    </tr>\n",
       "  </thead>\n",
       "  <tbody>\n",
       "    <tr>\n",
       "      <th>4593</th>\n",
       "      <td>4594</td>\n",
       "      <td>CA-2017-129868</td>\n",
       "      <td>26/12/2017</td>\n",
       "      <td>31/12/2017</td>\n",
       "      <td>Standard Class</td>\n",
       "      <td>MC-18130</td>\n",
       "      <td>Mike Caudle</td>\n",
       "      <td>Corporate</td>\n",
       "      <td>United States</td>\n",
       "      <td>Los Angeles</td>\n",
       "      <td>California</td>\n",
       "      <td>90004.0</td>\n",
       "      <td>West</td>\n",
       "      <td>OFF-AP-10004052</td>\n",
       "      <td>Office Supplies</td>\n",
       "      <td>Appliances</td>\n",
       "      <td>Hoover Replacement Belts For Soft Guard &amp; Comm...</td>\n",
       "      <td>7.9</td>\n",
       "    </tr>\n",
       "  </tbody>\n",
       "</table>\n",
       "</div>"
      ],
      "text/plain": [
       "      Row ID        Order ID  Order Date   Ship Date       Ship Mode  \\\n",
       "4593    4594  CA-2017-129868  26/12/2017  31/12/2017  Standard Class   \n",
       "\n",
       "     Customer ID Customer Name    Segment        Country         City  \\\n",
       "4593    MC-18130   Mike Caudle  Corporate  United States  Los Angeles   \n",
       "\n",
       "           State  Postal Code Region       Product ID         Category  \\\n",
       "4593  California      90004.0   West  OFF-AP-10004052  Office Supplies   \n",
       "\n",
       "     Sub-Category                                       Product Name  Sales  \n",
       "4593   Appliances  Hoover Replacement Belts For Soft Guard & Comm...    7.9  "
      ]
     },
     "execution_count": 1425,
     "metadata": {},
     "output_type": "execute_result"
    }
   ],
   "source": [
    "df.sample()"
   ]
  },
  {
   "cell_type": "code",
   "execution_count": 1426,
   "id": "650ba791",
   "metadata": {},
   "outputs": [
    {
     "data": {
      "text/plain": [
       "Index(['Row ID', 'Order ID', 'Order Date', 'Ship Date', 'Ship Mode',\n",
       "       'Customer ID', 'Customer Name', 'Segment', 'Country', 'City', 'State',\n",
       "       'Postal Code', 'Region', 'Product ID', 'Category', 'Sub-Category',\n",
       "       'Product Name', 'Sales'],\n",
       "      dtype='object')"
      ]
     },
     "execution_count": 1426,
     "metadata": {},
     "output_type": "execute_result"
    }
   ],
   "source": [
    "df.columns"
   ]
  },
  {
   "cell_type": "code",
   "execution_count": 1427,
   "id": "8cfdd55d-ad2f-4e99-91d4-bcabaa7c2b17",
   "metadata": {},
   "outputs": [
    {
     "data": {
      "text/plain": [
       "(9800, 18)"
      ]
     },
     "execution_count": 1427,
     "metadata": {},
     "output_type": "execute_result"
    }
   ],
   "source": [
    "df.shape"
   ]
  },
  {
   "cell_type": "code",
   "execution_count": 1428,
   "id": "abc6dd9f-82d5-4bf6-8c49-c432e33f3690",
   "metadata": {},
   "outputs": [
    {
     "name": "stdout",
     "output_type": "stream",
     "text": [
      "<class 'pandas.core.frame.DataFrame'>\n",
      "RangeIndex: 9800 entries, 0 to 9799\n",
      "Data columns (total 18 columns):\n",
      " #   Column         Non-Null Count  Dtype  \n",
      "---  ------         --------------  -----  \n",
      " 0   Row ID         9800 non-null   int64  \n",
      " 1   Order ID       9800 non-null   object \n",
      " 2   Order Date     9800 non-null   object \n",
      " 3   Ship Date      9800 non-null   object \n",
      " 4   Ship Mode      9800 non-null   object \n",
      " 5   Customer ID    9800 non-null   object \n",
      " 6   Customer Name  9800 non-null   object \n",
      " 7   Segment        9800 non-null   object \n",
      " 8   Country        9800 non-null   object \n",
      " 9   City           9800 non-null   object \n",
      " 10  State          9800 non-null   object \n",
      " 11  Postal Code    9789 non-null   float64\n",
      " 12  Region         9800 non-null   object \n",
      " 13  Product ID     9800 non-null   object \n",
      " 14  Category       9800 non-null   object \n",
      " 15  Sub-Category   9800 non-null   object \n",
      " 16  Product Name   9800 non-null   object \n",
      " 17  Sales          9800 non-null   float64\n",
      "dtypes: float64(2), int64(1), object(15)\n",
      "memory usage: 1.3+ MB\n"
     ]
    }
   ],
   "source": [
    "df.info()"
   ]
  },
  {
   "cell_type": "code",
   "execution_count": 1429,
   "id": "30d037bb-b46a-4d5c-93ed-823a28914374",
   "metadata": {},
   "outputs": [
    {
     "data": {
      "text/html": [
       "<div>\n",
       "<style scoped>\n",
       "    .dataframe tbody tr th:only-of-type {\n",
       "        vertical-align: middle;\n",
       "    }\n",
       "\n",
       "    .dataframe tbody tr th {\n",
       "        vertical-align: top;\n",
       "    }\n",
       "\n",
       "    .dataframe thead th {\n",
       "        text-align: right;\n",
       "    }\n",
       "</style>\n",
       "<table border=\"1\" class=\"dataframe\">\n",
       "  <thead>\n",
       "    <tr style=\"text-align: right;\">\n",
       "      <th></th>\n",
       "      <th>Row ID</th>\n",
       "      <th>Postal Code</th>\n",
       "      <th>Sales</th>\n",
       "    </tr>\n",
       "  </thead>\n",
       "  <tbody>\n",
       "    <tr>\n",
       "      <th>count</th>\n",
       "      <td>9800.000000</td>\n",
       "      <td>9789.000000</td>\n",
       "      <td>9800.000000</td>\n",
       "    </tr>\n",
       "    <tr>\n",
       "      <th>mean</th>\n",
       "      <td>4900.500000</td>\n",
       "      <td>55273.322403</td>\n",
       "      <td>230.769059</td>\n",
       "    </tr>\n",
       "    <tr>\n",
       "      <th>std</th>\n",
       "      <td>2829.160653</td>\n",
       "      <td>32041.223413</td>\n",
       "      <td>626.651875</td>\n",
       "    </tr>\n",
       "    <tr>\n",
       "      <th>min</th>\n",
       "      <td>1.000000</td>\n",
       "      <td>1040.000000</td>\n",
       "      <td>0.444000</td>\n",
       "    </tr>\n",
       "    <tr>\n",
       "      <th>25%</th>\n",
       "      <td>2450.750000</td>\n",
       "      <td>23223.000000</td>\n",
       "      <td>17.248000</td>\n",
       "    </tr>\n",
       "    <tr>\n",
       "      <th>50%</th>\n",
       "      <td>4900.500000</td>\n",
       "      <td>58103.000000</td>\n",
       "      <td>54.490000</td>\n",
       "    </tr>\n",
       "    <tr>\n",
       "      <th>75%</th>\n",
       "      <td>7350.250000</td>\n",
       "      <td>90008.000000</td>\n",
       "      <td>210.605000</td>\n",
       "    </tr>\n",
       "    <tr>\n",
       "      <th>max</th>\n",
       "      <td>9800.000000</td>\n",
       "      <td>99301.000000</td>\n",
       "      <td>22638.480000</td>\n",
       "    </tr>\n",
       "  </tbody>\n",
       "</table>\n",
       "</div>"
      ],
      "text/plain": [
       "            Row ID   Postal Code         Sales\n",
       "count  9800.000000   9789.000000   9800.000000\n",
       "mean   4900.500000  55273.322403    230.769059\n",
       "std    2829.160653  32041.223413    626.651875\n",
       "min       1.000000   1040.000000      0.444000\n",
       "25%    2450.750000  23223.000000     17.248000\n",
       "50%    4900.500000  58103.000000     54.490000\n",
       "75%    7350.250000  90008.000000    210.605000\n",
       "max    9800.000000  99301.000000  22638.480000"
      ]
     },
     "execution_count": 1429,
     "metadata": {},
     "output_type": "execute_result"
    }
   ],
   "source": [
    "df.describe(exclude='object')"
   ]
  },
  {
   "cell_type": "code",
   "execution_count": 1430,
   "id": "e37bfd12-d7ad-4f33-90b8-c141a63f85fe",
   "metadata": {},
   "outputs": [
    {
     "data": {
      "text/html": [
       "<div>\n",
       "<style scoped>\n",
       "    .dataframe tbody tr th:only-of-type {\n",
       "        vertical-align: middle;\n",
       "    }\n",
       "\n",
       "    .dataframe tbody tr th {\n",
       "        vertical-align: top;\n",
       "    }\n",
       "\n",
       "    .dataframe thead th {\n",
       "        text-align: right;\n",
       "    }\n",
       "</style>\n",
       "<table border=\"1\" class=\"dataframe\">\n",
       "  <thead>\n",
       "    <tr style=\"text-align: right;\">\n",
       "      <th></th>\n",
       "      <th>Order ID</th>\n",
       "      <th>Order Date</th>\n",
       "      <th>Ship Date</th>\n",
       "      <th>Ship Mode</th>\n",
       "      <th>Customer ID</th>\n",
       "      <th>Customer Name</th>\n",
       "      <th>Segment</th>\n",
       "      <th>Country</th>\n",
       "      <th>City</th>\n",
       "      <th>State</th>\n",
       "      <th>Region</th>\n",
       "      <th>Product ID</th>\n",
       "      <th>Category</th>\n",
       "      <th>Sub-Category</th>\n",
       "      <th>Product Name</th>\n",
       "    </tr>\n",
       "  </thead>\n",
       "  <tbody>\n",
       "    <tr>\n",
       "      <th>count</th>\n",
       "      <td>9800</td>\n",
       "      <td>9800</td>\n",
       "      <td>9800</td>\n",
       "      <td>9800</td>\n",
       "      <td>9800</td>\n",
       "      <td>9800</td>\n",
       "      <td>9800</td>\n",
       "      <td>9800</td>\n",
       "      <td>9800</td>\n",
       "      <td>9800</td>\n",
       "      <td>9800</td>\n",
       "      <td>9800</td>\n",
       "      <td>9800</td>\n",
       "      <td>9800</td>\n",
       "      <td>9800</td>\n",
       "    </tr>\n",
       "    <tr>\n",
       "      <th>unique</th>\n",
       "      <td>4922</td>\n",
       "      <td>1230</td>\n",
       "      <td>1326</td>\n",
       "      <td>4</td>\n",
       "      <td>793</td>\n",
       "      <td>793</td>\n",
       "      <td>3</td>\n",
       "      <td>1</td>\n",
       "      <td>529</td>\n",
       "      <td>49</td>\n",
       "      <td>4</td>\n",
       "      <td>1861</td>\n",
       "      <td>3</td>\n",
       "      <td>17</td>\n",
       "      <td>1849</td>\n",
       "    </tr>\n",
       "    <tr>\n",
       "      <th>top</th>\n",
       "      <td>CA-2018-100111</td>\n",
       "      <td>05/09/2017</td>\n",
       "      <td>26/09/2018</td>\n",
       "      <td>Standard Class</td>\n",
       "      <td>WB-21850</td>\n",
       "      <td>William Brown</td>\n",
       "      <td>Consumer</td>\n",
       "      <td>United States</td>\n",
       "      <td>New York City</td>\n",
       "      <td>California</td>\n",
       "      <td>West</td>\n",
       "      <td>OFF-PA-10001970</td>\n",
       "      <td>Office Supplies</td>\n",
       "      <td>Binders</td>\n",
       "      <td>Staple envelope</td>\n",
       "    </tr>\n",
       "    <tr>\n",
       "      <th>freq</th>\n",
       "      <td>14</td>\n",
       "      <td>38</td>\n",
       "      <td>34</td>\n",
       "      <td>5859</td>\n",
       "      <td>35</td>\n",
       "      <td>35</td>\n",
       "      <td>5101</td>\n",
       "      <td>9800</td>\n",
       "      <td>891</td>\n",
       "      <td>1946</td>\n",
       "      <td>3140</td>\n",
       "      <td>19</td>\n",
       "      <td>5909</td>\n",
       "      <td>1492</td>\n",
       "      <td>47</td>\n",
       "    </tr>\n",
       "  </tbody>\n",
       "</table>\n",
       "</div>"
      ],
      "text/plain": [
       "              Order ID  Order Date   Ship Date       Ship Mode Customer ID  \\\n",
       "count             9800        9800        9800            9800        9800   \n",
       "unique            4922        1230        1326               4         793   \n",
       "top     CA-2018-100111  05/09/2017  26/09/2018  Standard Class    WB-21850   \n",
       "freq                14          38          34            5859          35   \n",
       "\n",
       "        Customer Name   Segment        Country           City       State  \\\n",
       "count            9800      9800           9800           9800        9800   \n",
       "unique            793         3              1            529          49   \n",
       "top     William Brown  Consumer  United States  New York City  California   \n",
       "freq               35      5101           9800            891        1946   \n",
       "\n",
       "       Region       Product ID         Category Sub-Category     Product Name  \n",
       "count    9800             9800             9800         9800             9800  \n",
       "unique      4             1861                3           17             1849  \n",
       "top      West  OFF-PA-10001970  Office Supplies      Binders  Staple envelope  \n",
       "freq     3140               19             5909         1492               47  "
      ]
     },
     "execution_count": 1430,
     "metadata": {},
     "output_type": "execute_result"
    }
   ],
   "source": [
    "df.describe(exclude='number')"
   ]
  },
  {
   "cell_type": "markdown",
   "id": "175dbb48",
   "metadata": {},
   "source": [
    "## **Data Preprocessing**"
   ]
  },
  {
   "cell_type": "markdown",
   "id": "19f5350b",
   "metadata": {},
   "source": [
    "### **Checking duplicates**"
   ]
  },
  {
   "cell_type": "markdown",
   "id": "1c0dac36",
   "metadata": {},
   "source": [
    "`Checking duplicates on whole data`"
   ]
  },
  {
   "cell_type": "code",
   "execution_count": 1431,
   "id": "2e39ec03-25ff-4ed1-97c2-965a56ad0672",
   "metadata": {},
   "outputs": [
    {
     "data": {
      "text/plain": [
       "0"
      ]
     },
     "execution_count": 1431,
     "metadata": {},
     "output_type": "execute_result"
    }
   ],
   "source": [
    "df.duplicated().sum()"
   ]
  },
  {
   "cell_type": "markdown",
   "id": "e1cfb10a",
   "metadata": {},
   "source": [
    "`Checking duplicates on Row ID column`"
   ]
  },
  {
   "cell_type": "code",
   "execution_count": 1432,
   "id": "014a60c6-57f5-486c-bb90-cff4b30ac38a",
   "metadata": {},
   "outputs": [
    {
     "data": {
      "text/plain": [
       "0"
      ]
     },
     "execution_count": 1432,
     "metadata": {},
     "output_type": "execute_result"
    }
   ],
   "source": [
    "df.duplicated(subset='Row ID').sum()"
   ]
  },
  {
   "cell_type": "markdown",
   "id": "a9d998ff",
   "metadata": {},
   "source": [
    "### **Checking Nulls**"
   ]
  },
  {
   "cell_type": "code",
   "execution_count": 1433,
   "id": "ff2491a3-5eda-464e-8716-e89e0651b506",
   "metadata": {},
   "outputs": [
    {
     "data": {
      "text/plain": [
       "Row ID            0\n",
       "Order ID          0\n",
       "Order Date        0\n",
       "Ship Date         0\n",
       "Ship Mode         0\n",
       "Customer ID       0\n",
       "Customer Name     0\n",
       "Segment           0\n",
       "Country           0\n",
       "City              0\n",
       "State             0\n",
       "Postal Code      11\n",
       "Region            0\n",
       "Product ID        0\n",
       "Category          0\n",
       "Sub-Category      0\n",
       "Product Name      0\n",
       "Sales             0\n",
       "dtype: int64"
      ]
     },
     "execution_count": 1433,
     "metadata": {},
     "output_type": "execute_result"
    }
   ],
   "source": [
    "df.isnull().sum()"
   ]
  },
  {
   "cell_type": "code",
   "execution_count": 1434,
   "id": "1a025fff",
   "metadata": {},
   "outputs": [
    {
     "name": "stdout",
     "output_type": "stream",
     "text": [
      "Row ID           0.000000\n",
      "Order ID         0.000000\n",
      "Order Date       0.000000\n",
      "Ship Date        0.000000\n",
      "Ship Mode        0.000000\n",
      "Customer ID      0.000000\n",
      "Customer Name    0.000000\n",
      "Segment          0.000000\n",
      "Country          0.000000\n",
      "City             0.000000\n",
      "State            0.000000\n",
      "Postal Code      0.112245\n",
      "Region           0.000000\n",
      "Product ID       0.000000\n",
      "Category         0.000000\n",
      "Sub-Category     0.000000\n",
      "Product Name     0.000000\n",
      "Sales            0.000000\n",
      "dtype: float64\n"
     ]
    }
   ],
   "source": [
    "missing_percentage = (df.isnull().sum() / len(df)) * 100\n",
    "print(missing_percentage)"
   ]
  },
  {
   "cell_type": "markdown",
   "id": "2002e185",
   "metadata": {},
   "source": [
    "`As the percentage of nulls was 0.11% we decided to drop them`"
   ]
  },
  {
   "cell_type": "code",
   "execution_count": 1435,
   "id": "f7c4a7c8-de66-4902-a5d5-9518e3ae8902",
   "metadata": {},
   "outputs": [],
   "source": [
    "df = df.dropna(subset=['Postal Code'])"
   ]
  },
  {
   "cell_type": "code",
   "execution_count": 1436,
   "id": "a345a33a-e38f-42fe-844c-edd6bb07640e",
   "metadata": {},
   "outputs": [
    {
     "data": {
      "text/plain": [
       "Row ID           0\n",
       "Order ID         0\n",
       "Order Date       0\n",
       "Ship Date        0\n",
       "Ship Mode        0\n",
       "Customer ID      0\n",
       "Customer Name    0\n",
       "Segment          0\n",
       "Country          0\n",
       "City             0\n",
       "State            0\n",
       "Postal Code      0\n",
       "Region           0\n",
       "Product ID       0\n",
       "Category         0\n",
       "Sub-Category     0\n",
       "Product Name     0\n",
       "Sales            0\n",
       "dtype: int64"
      ]
     },
     "execution_count": 1436,
     "metadata": {},
     "output_type": "execute_result"
    }
   ],
   "source": [
    "df.isnull().sum()"
   ]
  },
  {
   "cell_type": "markdown",
   "id": "f4aa2ffd",
   "metadata": {},
   "source": [
    "### **Handling Outliers using IQR method**"
   ]
  },
  {
   "cell_type": "markdown",
   "id": "1835221a",
   "metadata": {},
   "source": [
    "**We checked the outliers on numerical columns in our data which are `Postal Code`,`Sales`**"
   ]
  },
  {
   "cell_type": "code",
   "execution_count": 1437,
   "id": "72b86fc1-52f5-4dfe-9c0e-8d5c027455fd",
   "metadata": {},
   "outputs": [
    {
     "name": "stdout",
     "output_type": "stream",
     "text": [
      "The number of outliers in Postal Code is : 0\n",
      "The number of outliers in Sales is : 1141\n"
     ]
    }
   ],
   "source": [
    "outliers_cols=['Postal Code','Sales']\n",
    "for col in outliers_cols:\n",
    "  q1 = np.percentile(df[col], 25)\n",
    "  q3 = np.percentile(df[col], 75)\n",
    "  norm_range = (q3 - q1) * 1.5\n",
    "  lower_outliers = df[df[col] < (q1 - norm_range)]\n",
    "  upper_outliers = df[df[col] > (q3 + norm_range)]\n",
    "  outliers = len(lower_outliers)+len(upper_outliers)\n",
    "  print(f\"The number of outliers in {col} is : {outliers}\")"
   ]
  },
  {
   "cell_type": "code",
   "execution_count": 1438,
   "id": "6cf72e9f-0dcd-41fc-ad3f-35b7a7ff6a5f",
   "metadata": {},
   "outputs": [
    {
     "data": {
      "image/png": "[encoded data removed]",
      "text/plain": [
       "<Figure size 800x600 with 1 Axes>"
      ]
     },
     "metadata": {},
     "output_type": "display_data"
    }
   ],
   "source": [
    "plt.figure(figsize=(8, 6))\n",
    "sns.boxplot(x=df['Sales'], color='#211C84')\n",
    "plt.title('Sales Distribution')\n",
    "plt.xlabel('Sales')\n",
    "plt.show()"
   ]
  },
  {
   "cell_type": "code",
   "execution_count": 1439,
   "id": "f940842e-f3a8-405e-a51f-c1620df4b81e",
   "metadata": {},
   "outputs": [],
   "source": [
    "q1 = np.percentile(df['Sales'], 25)\n",
    "q3 = np.percentile(df['Sales'], 75)\n",
    "norm_range = (q3 - q1) * 1.5\n",
    "df['Sales'] = np.where(df['Sales'] < (q1 - norm_range), q1 - norm_range, df['Sales'])\n",
    "df['Sales'] = np.where(df['Sales'] > (q3 + norm_range), q3 + norm_range, df['Sales'])"
   ]
  },
  {
   "cell_type": "code",
   "execution_count": 1440,
   "id": "8c327d85-a4b6-46ec-9ecb-8b5444f6c207",
   "metadata": {},
   "outputs": [
    {
     "data": {
      "image/png": "[encoded data removed]",
      "text/plain": [
       "<Figure size 800x600 with 1 Axes>"
      ]
     },
     "metadata": {},
     "output_type": "display_data"
    }
   ],
   "source": [
    "plt.figure(figsize=(8, 6))\n",
    "sns.boxplot(x=df['Sales'], color='#211C84')\n",
    "plt.title('Sales Distribution')\n",
    "plt.xlabel('Sales')\n",
    "plt.show()"
   ]
  },
  {
   "cell_type": "markdown",
   "id": "36ecb60d",
   "metadata": {},
   "source": [
    "### **Encoding**"
   ]
  },
  {
   "cell_type": "markdown",
   "id": "2b71c57b",
   "metadata": {},
   "source": [
    "##### **Checking unique values in Categorical columns**"
   ]
  },
  {
   "cell_type": "code",
   "execution_count": 1441,
   "id": "4bbed8a9",
   "metadata": {},
   "outputs": [
    {
     "name": "stdout",
     "output_type": "stream",
     "text": [
      "The number of unique values in Ship Mode: 4\n",
      "The number of unique values in Segment: 3\n",
      "The number of unique values in Country: 1\n",
      "The number of unique values in City: 529\n",
      "The number of unique values in State: 48\n",
      "The number of unique values in Region: 4\n",
      "The number of unique values in Category: 3\n",
      "The number of unique values in Sub-Category: 17\n",
      "The number of unique values in Product Name: 1848\n"
     ]
    }
   ],
   "source": [
    "categorical_cols = ['Ship Mode', 'Segment', 'Country','City','State','Region','Category','Sub-Category','Product Name']\n",
    "for col in categorical_cols:\n",
    "    print(f\"The number of unique values in {col}: {df[col].nunique()}\")"
   ]
  },
  {
   "cell_type": "code",
   "execution_count": 1442,
   "id": "dfda189a",
   "metadata": {},
   "outputs": [
    {
     "name": "stdout",
     "output_type": "stream",
     "text": [
      "Unique values in Ship Mode: ['Second Class' 'Standard Class' 'First Class' 'Same Day']\n",
      "Unique values in Segment: ['Consumer' 'Corporate' 'Home Office']\n",
      "Unique values in Country: ['United States']\n",
      "Unique values in City: ['Henderson' 'Los Angeles' 'Fort Lauderdale' 'Concord' 'Seattle'\n",
      " 'Fort Worth' 'Madison' 'West Jordan' 'San Francisco' 'Fremont'\n",
      " 'Philadelphia' 'Orem' 'Houston' 'Richardson' 'Naperville' 'Melbourne'\n",
      " 'Eagan' 'Westland' 'Dover' 'New Albany' 'New York City' 'Troy' 'Chicago'\n",
      " 'Gilbert' 'Springfield' 'Jackson' 'Memphis' 'Decatur' 'Durham' 'Columbia'\n",
      " 'Rochester' 'Minneapolis' 'Portland' 'Saint Paul' 'Aurora' 'Charlotte'\n",
      " 'Orland Park' 'Urbandale' 'Columbus' 'Bristol' 'Wilmington' 'Bloomington'\n",
      " 'Phoenix' 'Roseville' 'Independence' 'Pasadena' 'Newark' 'Franklin'\n",
      " 'Scottsdale' 'San Jose' 'Edmond' 'Carlsbad' 'San Antonio' 'Monroe'\n",
      " 'Fairfield' 'Grand Prairie' 'Redlands' 'Hamilton' 'Westfield' 'Akron'\n",
      " 'Denver' 'Dallas' 'Whittier' 'Saginaw' 'Medina' 'Dublin' 'Detroit'\n",
      " 'Tampa' 'Santa Clara' 'Lakeville' 'San Diego' 'Brentwood' 'Chapel Hill'\n",
      " 'Morristown' 'Cincinnati' 'Inglewood' 'Tamarac' 'Colorado Springs'\n",
      " 'Belleville' 'Taylor' 'Lakewood' 'Arlington' 'Arvada' 'Hackensack'\n",
      " 'Saint Petersburg' 'Long Beach' 'Hesperia' 'Murfreesboro' 'Layton'\n",
      " 'Austin' 'Lowell' 'Manchester' 'Harlingen' 'Tucson' 'Quincy'\n",
      " 'Pembroke Pines' 'Des Moines' 'Peoria' 'Las Vegas' 'Warwick' 'Miami'\n",
      " 'Huntington Beach' 'Richmond' 'Louisville' 'Lawrence' 'Canton'\n",
      " 'New Rochelle' 'Gastonia' 'Jacksonville' 'Auburn' 'Norman' 'Park Ridge'\n",
      " 'Amarillo' 'Lindenhurst' 'Huntsville' 'Fayetteville' 'Costa Mesa'\n",
      " 'Parker' 'Atlanta' 'Gladstone' 'Great Falls' 'Lakeland' 'Montgomery'\n",
      " 'Mesa' 'Green Bay' 'Anaheim' 'Marysville' 'Salem' 'Laredo' 'Grove City'\n",
      " 'Dearborn' 'Warner Robins' 'Vallejo' 'Mission Viejo' 'Rochester Hills'\n",
      " 'Plainfield' 'Sierra Vista' 'Vancouver' 'Cleveland' 'Tyler' 'Burlington'\n",
      " 'Waynesboro' 'Chester' 'Cary' 'Palm Coast' 'Mount Vernon' 'Hialeah'\n",
      " 'Oceanside' 'Evanston' 'Trenton' 'Cottage Grove' 'Bossier City'\n",
      " 'Lancaster' 'Asheville' 'Lake Elsinore' 'Omaha' 'Edmonds' 'Santa Ana'\n",
      " 'Milwaukee' 'Florence' 'Lorain' 'Linden' 'Salinas' 'New Brunswick'\n",
      " 'Garland' 'Norwich' 'Alexandria' 'Toledo' 'Farmington' 'Riverside'\n",
      " 'Torrance' 'Round Rock' 'Boca Raton' 'Virginia Beach' 'Murrieta'\n",
      " 'Olympia' 'Washington' 'Jefferson City' 'Saint Peters' 'Rockford'\n",
      " 'Brownsville' 'Yonkers' 'Oakland' 'Clinton' 'Encinitas' 'Roswell'\n",
      " 'Jonesboro' 'Antioch' 'Homestead' 'La Porte' 'Lansing' 'Cuyahoga Falls'\n",
      " 'Reno' 'Harrisonburg' 'Escondido' 'Royal Oak' 'Rockville' 'Coral Springs'\n",
      " 'Buffalo' 'Boynton Beach' 'Gulfport' 'Fresno' 'Greenville' 'Macon'\n",
      " 'Cedar Rapids' 'Providence' 'Pueblo' 'Deltona' 'Murray' 'Middletown'\n",
      " 'Freeport' 'Pico Rivera' 'Provo' 'Pleasant Grove' 'Smyrna' 'Parma'\n",
      " 'Mobile' 'New Bedford' 'Irving' 'Vineland' 'Glendale' 'Niagara Falls'\n",
      " 'Thomasville' 'Westminster' 'Coppell' 'Pomona' 'North Las Vegas'\n",
      " 'Allentown' 'Tempe' 'Laguna Niguel' 'Bridgeton' 'Everett' 'Watertown'\n",
      " 'Appleton' 'Bellevue' 'Allen' 'El Paso' 'Grapevine' 'Carrollton' 'Kent'\n",
      " 'Lafayette' 'Tigard' 'Skokie' 'Plano' 'Suffolk' 'Indianapolis' 'Bayonne'\n",
      " 'Greensboro' 'Baltimore' 'Kenosha' 'Olathe' 'Tulsa' 'Redmond' 'Raleigh'\n",
      " 'Muskogee' 'Meriden' 'Bowling Green' 'South Bend' 'Spokane' 'Keller'\n",
      " 'Port Orange' 'Medford' 'Charlottesville' 'Missoula' 'Apopka' 'Reading'\n",
      " 'Broomfield' 'Paterson' 'Oklahoma City' 'Chesapeake' 'Lubbock'\n",
      " 'Johnson City' 'San Bernardino' 'Leominster' 'Bozeman' 'Perth Amboy'\n",
      " 'Ontario' 'Rancho Cucamonga' 'Moorhead' 'Mesquite' 'Stockton'\n",
      " 'Ormond Beach' 'Sunnyvale' 'York' 'College Station' 'Saint Louis'\n",
      " 'Manteca' 'San Angelo' 'Salt Lake City' 'Knoxville' 'Little Rock'\n",
      " 'Lincoln Park' 'Marion' 'Littleton' 'Bangor' 'Southaven' 'New Castle'\n",
      " 'Midland' 'Sioux Falls' 'Fort Collins' 'Clarksville' 'Sacramento'\n",
      " 'Thousand Oaks' 'Malden' 'Holyoke' 'Albuquerque' 'Sparks' 'Coachella'\n",
      " 'Elmhurst' 'Passaic' 'North Charleston' 'Newport News' 'Jamestown'\n",
      " 'Mishawaka' 'La Quinta' 'Tallahassee' 'Nashville' 'Bellingham'\n",
      " 'Woodstock' 'Haltom City' 'Wheeling' 'Summerville' 'Hot Springs'\n",
      " 'Englewood' 'Las Cruces' 'Hoover' 'Frisco' 'Vacaville' 'Waukesha'\n",
      " 'Bakersfield' 'Pompano Beach' 'Corpus Christi' 'Redondo Beach' 'Orlando'\n",
      " 'Orange' 'Lake Charles' 'Highland Park' 'Hempstead' 'Noblesville'\n",
      " 'Apple Valley' 'Mount Pleasant' 'Sterling Heights' 'Eau Claire' 'Pharr'\n",
      " 'Billings' 'Gresham' 'Chattanooga' 'Meridian' 'Bolingbrook' 'Maple Grove'\n",
      " 'Woodland' 'Missouri City' 'Pearland' 'San Mateo' 'Grand Rapids'\n",
      " 'Visalia' 'Overland Park' 'Temecula' 'Yucaipa' 'Revere' 'Conroe'\n",
      " 'Tinley Park' 'Dubuque' 'Dearborn Heights' 'Santa Fe' 'Hickory'\n",
      " 'Carol Stream' 'Saint Cloud' 'North Miami' 'Plantation'\n",
      " 'Port Saint Lucie' 'Rock Hill' 'Odessa' 'West Allis' 'Chula Vista'\n",
      " 'Manhattan' 'Altoona' 'Thornton' 'Champaign' 'Texarkana' 'Edinburg'\n",
      " 'Baytown' 'Greenwood' 'Woonsocket' 'Superior' 'Bedford' 'Covington'\n",
      " 'Broken Arrow' 'Miramar' 'Hollywood' 'Deer Park' 'Wichita' 'Mcallen'\n",
      " 'Iowa City' 'Boise' 'Cranston' 'Port Arthur' 'Citrus Heights'\n",
      " 'The Colony' 'Daytona Beach' 'Bullhead City' 'Portage' 'Fargo' 'Elkhart'\n",
      " 'San Gabriel' 'Margate' 'Sandy Springs' 'Mentor' 'Lawton' 'Hampton'\n",
      " 'Rome' 'La Crosse' 'Lewiston' 'Hattiesburg' 'Danville' 'Logan'\n",
      " 'Waterbury' 'Athens' 'Avondale' 'Marietta' 'Yuma' 'Wausau' 'Pasco'\n",
      " 'Oak Park' 'Pensacola' 'League City' 'Gaithersburg' 'Lehi' 'Tuscaloosa'\n",
      " 'Moreno Valley' 'Georgetown' 'Loveland' 'Chandler' 'Helena' 'Kirkwood'\n",
      " 'Waco' 'Frankfort' 'Bethlehem' 'Grand Island' 'Woodbury' 'Rogers'\n",
      " 'Clovis' 'Jupiter' 'Santa Barbara' 'Cedar Hill' 'Norfolk' 'Draper'\n",
      " 'Ann Arbor' 'La Mesa' 'Pocatello' 'Holland' 'Milford' 'Buffalo Grove'\n",
      " 'Lake Forest' 'Redding' 'Chico' 'Utica' 'Conway' 'Cheyenne' 'Owensboro'\n",
      " 'Caldwell' 'Kenner' 'Nashua' 'Bartlett' 'Redwood City' 'Lebanon'\n",
      " 'Santa Maria' 'Des Plaines' 'Longview' 'Hendersonville' 'Waterloo'\n",
      " 'Cambridge' 'Palatine' 'Beverly' 'Eugene' 'Oxnard' 'Renton' 'Glenview'\n",
      " 'Delray Beach' 'Commerce City' 'Texas City' 'Wilson' 'Rio Rancho'\n",
      " 'Goldsboro' 'Montebello' 'El Cajon' 'Beaumont' 'West Palm Beach'\n",
      " 'Abilene' 'Normal' 'Saint Charles' 'Camarillo' 'Hillsboro' 'Burbank'\n",
      " 'Modesto' 'Garden City' 'Atlantic City' 'Longmont' 'Davis' 'Morgan Hill'\n",
      " 'Clifton' 'Sheboygan' 'East Point' 'Rapid City' 'Andover' 'Kissimmee'\n",
      " 'Shelton' 'Danbury' 'Sanford' 'San Marcos' 'Greeley' 'Mansfield' 'Elyria'\n",
      " 'Twin Falls' 'Coral Gables' 'Romeoville' 'Marlborough' 'Laurel' 'Bryan'\n",
      " 'Pine Bluff' 'Aberdeen' 'Hagerstown' 'East Orange' 'Arlington Heights'\n",
      " 'Oswego' 'Coon Rapids' 'San Clemente' 'San Luis Obispo' 'Springdale']\n",
      "Unique values in State: ['Kentucky' 'California' 'Florida' 'North Carolina' 'Washington' 'Texas'\n",
      " 'Wisconsin' 'Utah' 'Nebraska' 'Pennsylvania' 'Illinois' 'Minnesota'\n",
      " 'Michigan' 'Delaware' 'Indiana' 'New York' 'Arizona' 'Virginia'\n",
      " 'Tennessee' 'Alabama' 'South Carolina' 'Oregon' 'Colorado' 'Iowa' 'Ohio'\n",
      " 'Missouri' 'Oklahoma' 'New Mexico' 'Louisiana' 'Connecticut' 'New Jersey'\n",
      " 'Massachusetts' 'Georgia' 'Nevada' 'Rhode Island' 'Mississippi'\n",
      " 'Arkansas' 'Montana' 'New Hampshire' 'Maryland' 'District of Columbia'\n",
      " 'Kansas' 'Maine' 'South Dakota' 'Idaho' 'North Dakota' 'Wyoming'\n",
      " 'West Virginia']\n",
      "Unique values in Region: ['South' 'West' 'Central' 'East']\n",
      "Unique values in Category: ['Furniture' 'Office Supplies' 'Technology']\n",
      "Unique values in Sub-Category: ['Bookcases' 'Chairs' 'Labels' 'Tables' 'Storage' 'Furnishings' 'Art'\n",
      " 'Phones' 'Binders' 'Appliances' 'Paper' 'Accessories' 'Envelopes'\n",
      " 'Fasteners' 'Supplies' 'Machines' 'Copiers']\n",
      "Unique values in Product Name: ['Bush Somerset Collection Bookcase'\n",
      " 'Hon Deluxe Fabric Upholstered Stacking Chairs, Rounded Back'\n",
      " 'Self-Adhesive Address Labels for Typewriters by Universal' ...\n",
      " 'Cisco 8961 IP Phone Charcoal' 'Eureka Hand Vacuum, Bagless' 'LG G2']\n"
     ]
    }
   ],
   "source": [
    "for col in categorical_cols:\n",
    "    print(f\"Unique values in {col}: {df[col].unique()}\")"
   ]
  },
  {
   "cell_type": "code",
   "execution_count": 1443,
   "id": "a8be6ff1",
   "metadata": {},
   "outputs": [
    {
     "name": "stdout",
     "output_type": "stream",
     "text": [
      "Value counts in Ship Mode:\n",
      "Ship Mode\n",
      "Standard Class    5849\n",
      "Second Class      1901\n",
      "First Class       1501\n",
      "Same Day           538\n",
      "Name: count, dtype: int64\n",
      "\n",
      "\n",
      "Value counts in Segment:\n",
      "Segment\n",
      "Consumer       5096\n",
      "Corporate      2948\n",
      "Home Office    1745\n",
      "Name: count, dtype: int64\n",
      "\n",
      "\n",
      "Value counts in Country:\n",
      "Country\n",
      "United States    9789\n",
      "Name: count, dtype: int64\n",
      "\n",
      "\n",
      "Value counts in City:\n",
      "City\n",
      "New York City    891\n",
      "Los Angeles      728\n",
      "Philadelphia     532\n",
      "San Francisco    500\n",
      "Seattle          426\n",
      "                ... \n",
      "San Mateo          1\n",
      "Cheyenne           1\n",
      "Conway             1\n",
      "Melbourne          1\n",
      "Springdale         1\n",
      "Name: count, Length: 529, dtype: int64\n",
      "\n",
      "\n",
      "Value counts in State:\n",
      "State\n",
      "California              1946\n",
      "New York                1097\n",
      "Texas                    973\n",
      "Pennsylvania             582\n",
      "Washington               504\n",
      "Illinois                 483\n",
      "Ohio                     454\n",
      "Florida                  373\n",
      "Michigan                 253\n",
      "North Carolina           247\n",
      "Virginia                 224\n",
      "Arizona                  223\n",
      "Tennessee                183\n",
      "Colorado                 179\n",
      "Georgia                  177\n",
      "Kentucky                 137\n",
      "Indiana                  135\n",
      "Massachusetts            135\n",
      "Oregon                   122\n",
      "New Jersey               122\n",
      "Maryland                 105\n",
      "Wisconsin                105\n",
      "Delaware                  93\n",
      "Minnesota                 89\n",
      "Connecticut               82\n",
      "Missouri                  66\n",
      "Oklahoma                  66\n",
      "Alabama                   61\n",
      "Arkansas                  60\n",
      "Rhode Island              55\n",
      "Mississippi               53\n",
      "Utah                      53\n",
      "South Carolina            42\n",
      "Louisiana                 41\n",
      "Nevada                    39\n",
      "Nebraska                  38\n",
      "New Mexico                37\n",
      "New Hampshire             27\n",
      "Iowa                      26\n",
      "Kansas                    24\n",
      "Idaho                     21\n",
      "Montana                   15\n",
      "South Dakota              12\n",
      "District of Columbia      10\n",
      "Maine                      8\n",
      "North Dakota               7\n",
      "West Virginia              4\n",
      "Wyoming                    1\n",
      "Name: count, dtype: int64\n",
      "\n",
      "\n",
      "Value counts in Region:\n",
      "Region\n",
      "West       3140\n",
      "East       2774\n",
      "Central    2277\n",
      "South      1598\n",
      "Name: count, dtype: int64\n",
      "\n",
      "\n",
      "Value counts in Category:\n",
      "Category\n",
      "Office Supplies    5903\n",
      "Furniture          2076\n",
      "Technology         1810\n",
      "Name: count, dtype: int64\n",
      "\n",
      "\n",
      "Value counts in Sub-Category:\n",
      "Sub-Category\n",
      "Binders        1492\n",
      "Paper          1336\n",
      "Furnishings     931\n",
      "Phones          875\n",
      "Storage         831\n",
      "Art             784\n",
      "Accessories     754\n",
      "Chairs          606\n",
      "Appliances      458\n",
      "Labels          357\n",
      "Tables          314\n",
      "Envelopes       247\n",
      "Bookcases       225\n",
      "Fasteners       214\n",
      "Supplies        184\n",
      "Machines        115\n",
      "Copiers          66\n",
      "Name: count, dtype: int64\n",
      "\n",
      "\n",
      "Value counts in Product Name:\n",
      "Product Name\n",
      "Staple envelope                                                              47\n",
      "Staples                                                                      46\n",
      "Easy-staple paper                                                            44\n",
      "Avery Non-Stick Binders                                                      20\n",
      "Staples in misc. colors                                                      18\n",
      "                                                                             ..\n",
      "Park Ridge Embossed Executive Business Envelopes                              1\n",
      "Canon imageCLASS MF7460 Monochrome Digital Laser Multifunction Copier         1\n",
      "Belkin 8 Outlet SurgeMaster II Gold Surge Protector with Phone Protection     1\n",
      "Boston 1900 Electric Pencil Sharpener                                         1\n",
      "LG G2                                                                         1\n",
      "Name: count, Length: 1848, dtype: int64\n",
      "\n",
      "\n"
     ]
    }
   ],
   "source": [
    "for col in categorical_cols:\n",
    "    print(f\"Value counts in {col}:\")\n",
    "    print(df[col].value_counts())\n",
    "    print(\"\\n\")"
   ]
  },
  {
   "cell_type": "markdown",
   "id": "7928ec56",
   "metadata": {},
   "source": [
    "##### **Converting all text in the `Product Name` column to lowercase and removing punctuation**"
   ]
  },
  {
   "cell_type": "code",
   "execution_count": 1444,
   "id": "4c5c4585-604f-4f5e-9e00-baea1c11c774",
   "metadata": {},
   "outputs": [],
   "source": [
    "df['Product Name'] = df['Product Name'].str.lower().str.replace('[^\\w\\s]', '')"
   ]
  },
  {
   "cell_type": "markdown",
   "id": "e9b22f31",
   "metadata": {},
   "source": [
    "##### **Label encoding**"
   ]
  },
  {
   "cell_type": "code",
   "execution_count": 1445,
   "id": "9017714a-9a2a-448d-8d2f-04512f328bf6",
   "metadata": {},
   "outputs": [],
   "source": [
    "le = LabelEncoder()\n",
    "for col in categorical_cols:\n",
    "    df[col] = le.fit_transform(df[col])"
   ]
  },
  {
   "cell_type": "code",
   "execution_count": 1446,
   "id": "3bf2d06c",
   "metadata": {},
   "outputs": [
    {
     "name": "stdout",
     "output_type": "stream",
     "text": [
      "<class 'pandas.core.frame.DataFrame'>\n",
      "Index: 9789 entries, 0 to 9799\n",
      "Data columns (total 18 columns):\n",
      " #   Column         Non-Null Count  Dtype  \n",
      "---  ------         --------------  -----  \n",
      " 0   Row ID         9789 non-null   int64  \n",
      " 1   Order ID       9789 non-null   object \n",
      " 2   Order Date     9789 non-null   object \n",
      " 3   Ship Date      9789 non-null   object \n",
      " 4   Ship Mode      9789 non-null   int32  \n",
      " 5   Customer ID    9789 non-null   object \n",
      " 6   Customer Name  9789 non-null   object \n",
      " 7   Segment        9789 non-null   int32  \n",
      " 8   Country        9789 non-null   int32  \n",
      " 9   City           9789 non-null   int32  \n",
      " 10  State          9789 non-null   int32  \n",
      " 11  Postal Code    9789 non-null   float64\n",
      " 12  Region         9789 non-null   int32  \n",
      " 13  Product ID     9789 non-null   object \n",
      " 14  Category       9789 non-null   int32  \n",
      " 15  Sub-Category   9789 non-null   int32  \n",
      " 16  Product Name   9789 non-null   int32  \n",
      " 17  Sales          9789 non-null   float64\n",
      "dtypes: float64(2), int32(9), int64(1), object(6)\n",
      "memory usage: 1.1+ MB\n"
     ]
    }
   ],
   "source": [
    "df.info()"
   ]
  },
  {
   "cell_type": "code",
   "execution_count": 1447,
   "id": "750c00a8",
   "metadata": {},
   "outputs": [
    {
     "data": {
      "text/html": [
       "<div>\n",
       "<style scoped>\n",
       "    .dataframe tbody tr th:only-of-type {\n",
       "        vertical-align: middle;\n",
       "    }\n",
       "\n",
       "    .dataframe tbody tr th {\n",
       "        vertical-align: top;\n",
       "    }\n",
       "\n",
       "    .dataframe thead th {\n",
       "        text-align: right;\n",
       "    }\n",
       "</style>\n",
       "<table border=\"1\" class=\"dataframe\">\n",
       "  <thead>\n",
       "    <tr style=\"text-align: right;\">\n",
       "      <th></th>\n",
       "      <th>Row ID</th>\n",
       "      <th>Order ID</th>\n",
       "      <th>Order Date</th>\n",
       "      <th>Ship Date</th>\n",
       "      <th>Ship Mode</th>\n",
       "      <th>Customer ID</th>\n",
       "      <th>Customer Name</th>\n",
       "      <th>Segment</th>\n",
       "      <th>Country</th>\n",
       "      <th>City</th>\n",
       "      <th>State</th>\n",
       "      <th>Postal Code</th>\n",
       "      <th>Region</th>\n",
       "      <th>Product ID</th>\n",
       "      <th>Category</th>\n",
       "      <th>Sub-Category</th>\n",
       "      <th>Product Name</th>\n",
       "      <th>Sales</th>\n",
       "    </tr>\n",
       "  </thead>\n",
       "  <tbody>\n",
       "    <tr>\n",
       "      <th>0</th>\n",
       "      <td>1</td>\n",
       "      <td>CA-2017-152156</td>\n",
       "      <td>08/11/2017</td>\n",
       "      <td>11/11/2017</td>\n",
       "      <td>2</td>\n",
       "      <td>CG-12520</td>\n",
       "      <td>Claire Gute</td>\n",
       "      <td>0</td>\n",
       "      <td>0</td>\n",
       "      <td>194</td>\n",
       "      <td>15</td>\n",
       "      <td>42420.0</td>\n",
       "      <td>2</td>\n",
       "      <td>FUR-BO-10001798</td>\n",
       "      <td>0</td>\n",
       "      <td>4</td>\n",
       "      <td>385</td>\n",
       "      <td>261.960</td>\n",
       "    </tr>\n",
       "    <tr>\n",
       "      <th>1</th>\n",
       "      <td>2</td>\n",
       "      <td>CA-2017-152156</td>\n",
       "      <td>08/11/2017</td>\n",
       "      <td>11/11/2017</td>\n",
       "      <td>2</td>\n",
       "      <td>CG-12520</td>\n",
       "      <td>Claire Gute</td>\n",
       "      <td>0</td>\n",
       "      <td>0</td>\n",
       "      <td>194</td>\n",
       "      <td>15</td>\n",
       "      <td>42420.0</td>\n",
       "      <td>2</td>\n",
       "      <td>FUR-CH-10000454</td>\n",
       "      <td>0</td>\n",
       "      <td>5</td>\n",
       "      <td>830</td>\n",
       "      <td>500.108</td>\n",
       "    </tr>\n",
       "    <tr>\n",
       "      <th>2</th>\n",
       "      <td>3</td>\n",
       "      <td>CA-2017-138688</td>\n",
       "      <td>12/06/2017</td>\n",
       "      <td>16/06/2017</td>\n",
       "      <td>2</td>\n",
       "      <td>DV-13045</td>\n",
       "      <td>Darrin Van Huff</td>\n",
       "      <td>1</td>\n",
       "      <td>0</td>\n",
       "      <td>265</td>\n",
       "      <td>3</td>\n",
       "      <td>90036.0</td>\n",
       "      <td>3</td>\n",
       "      <td>OFF-LA-10000240</td>\n",
       "      <td>1</td>\n",
       "      <td>10</td>\n",
       "      <td>1437</td>\n",
       "      <td>14.620</td>\n",
       "    </tr>\n",
       "    <tr>\n",
       "      <th>3</th>\n",
       "      <td>4</td>\n",
       "      <td>US-2016-108966</td>\n",
       "      <td>11/10/2016</td>\n",
       "      <td>18/10/2016</td>\n",
       "      <td>3</td>\n",
       "      <td>SO-20335</td>\n",
       "      <td>Sean O'Donnell</td>\n",
       "      <td>0</td>\n",
       "      <td>0</td>\n",
       "      <td>153</td>\n",
       "      <td>8</td>\n",
       "      <td>33311.0</td>\n",
       "      <td>2</td>\n",
       "      <td>FUR-TA-10000577</td>\n",
       "      <td>0</td>\n",
       "      <td>16</td>\n",
       "      <td>365</td>\n",
       "      <td>500.108</td>\n",
       "    </tr>\n",
       "    <tr>\n",
       "      <th>4</th>\n",
       "      <td>5</td>\n",
       "      <td>US-2016-108966</td>\n",
       "      <td>11/10/2016</td>\n",
       "      <td>18/10/2016</td>\n",
       "      <td>3</td>\n",
       "      <td>SO-20335</td>\n",
       "      <td>Sean O'Donnell</td>\n",
       "      <td>0</td>\n",
       "      <td>0</td>\n",
       "      <td>153</td>\n",
       "      <td>8</td>\n",
       "      <td>33311.0</td>\n",
       "      <td>2</td>\n",
       "      <td>OFF-ST-10000760</td>\n",
       "      <td>1</td>\n",
       "      <td>14</td>\n",
       "      <td>572</td>\n",
       "      <td>22.368</td>\n",
       "    </tr>\n",
       "  </tbody>\n",
       "</table>\n",
       "</div>"
      ],
      "text/plain": [
       "   Row ID        Order ID  Order Date   Ship Date  Ship Mode Customer ID  \\\n",
       "0       1  CA-2017-152156  08/11/2017  11/11/2017          2    CG-12520   \n",
       "1       2  CA-2017-152156  08/11/2017  11/11/2017          2    CG-12520   \n",
       "2       3  CA-2017-138688  12/06/2017  16/06/2017          2    DV-13045   \n",
       "3       4  US-2016-108966  11/10/2016  18/10/2016          3    SO-20335   \n",
       "4       5  US-2016-108966  11/10/2016  18/10/2016          3    SO-20335   \n",
       "\n",
       "     Customer Name  Segment  Country  City  State  Postal Code  Region  \\\n",
       "0      Claire Gute        0        0   194     15      42420.0       2   \n",
       "1      Claire Gute        0        0   194     15      42420.0       2   \n",
       "2  Darrin Van Huff        1        0   265      3      90036.0       3   \n",
       "3   Sean O'Donnell        0        0   153      8      33311.0       2   \n",
       "4   Sean O'Donnell        0        0   153      8      33311.0       2   \n",
       "\n",
       "        Product ID  Category  Sub-Category  Product Name    Sales  \n",
       "0  FUR-BO-10001798         0             4           385  261.960  \n",
       "1  FUR-CH-10000454         0             5           830  500.108  \n",
       "2  OFF-LA-10000240         1            10          1437   14.620  \n",
       "3  FUR-TA-10000577         0            16           365  500.108  \n",
       "4  OFF-ST-10000760         1            14           572   22.368  "
      ]
     },
     "execution_count": 1447,
     "metadata": {},
     "output_type": "execute_result"
    }
   ],
   "source": [
    "df.head()"
   ]
  },
  {
   "cell_type": "markdown",
   "id": "991b157d",
   "metadata": {},
   "source": [
    "## **Feature Engineering**"
   ]
  },
  {
   "cell_type": "markdown",
   "id": "49181d41",
   "metadata": {},
   "source": [
    "**Converting the `Order Date` and `Ship Date` columns from string format to datetime**"
   ]
  },
  {
   "cell_type": "code",
   "execution_count": 1448,
   "id": "820fa747-d193-4ac6-91dd-1c1209d5da71",
   "metadata": {},
   "outputs": [],
   "source": [
    "df['Order Date'] = pd.to_datetime(df['Order Date'], format='%d/%m/%Y')\n",
    "df['Ship Date'] = pd.to_datetime(df['Ship Date'], format='%d/%m/%Y')"
   ]
  },
  {
   "cell_type": "markdown",
   "id": "34b55cc1",
   "metadata": {},
   "source": [
    "##### **1) Extracting specific components from the `Order Date` column :**\n",
    "- `df['Year']`: extracts the year (e.g., 2016) from each order date.\n",
    "- `df['Month']`: extracts the month as a number (1 to 12).\n",
    "- `df['Day']`: extracts the day of the month (1 to 31).\n",
    "- `df['Weekday']`: extracts the day of the week as an integer (0 = Monday, 6 = Sunday)."
   ]
  },
  {
   "cell_type": "code",
   "execution_count": 1449,
   "id": "4fc63ce5-aa4a-4c98-900b-8979ab3bdbed",
   "metadata": {},
   "outputs": [],
   "source": [
    "df['Year'] = df['Order Date'].dt.year\n",
    "df['Month'] = df['Order Date'].dt.month\n",
    "df['Day'] = df['Order Date'].dt.day\n",
    "df['Weekday'] = df['Order Date'].dt.weekday"
   ]
  },
  {
   "cell_type": "markdown",
   "id": "b0557686",
   "metadata": {},
   "source": [
    "##### **2) Calculating the shipping duration from `Ship Date` and `Order Date`**"
   ]
  },
  {
   "cell_type": "code",
   "execution_count": 1450,
   "id": "483091b2-5f10-4100-883d-94ed80cebff7",
   "metadata": {},
   "outputs": [],
   "source": [
    "df['Shipping Duration'] = (df['Ship Date'] - df['Order Date']).dt.days"
   ]
  },
  {
   "cell_type": "markdown",
   "id": "e079a994",
   "metadata": {},
   "source": [
    "##### **3) Calculating how many items are in each order using `Order ID` column**"
   ]
  },
  {
   "cell_type": "code",
   "execution_count": 1451,
   "id": "51566f7f-af54-44e7-8df9-f37f91bbafb9",
   "metadata": {},
   "outputs": [],
   "source": [
    "order_item_counts = df['Order ID'].value_counts()\n",
    "df['Items per Order'] = df['Order ID'].map(order_item_counts)"
   ]
  },
  {
   "cell_type": "markdown",
   "id": "706190d2",
   "metadata": {},
   "source": [
    "##### **4) Calculating the total sales for each order using `Order ID` column**"
   ]
  },
  {
   "cell_type": "code",
   "execution_count": 1452,
   "id": "63a34e22-23d3-43be-bda0-81b6fc1941b6",
   "metadata": {},
   "outputs": [],
   "source": [
    "order_sales = df.groupby('Order ID')['Sales'].sum()\n",
    "df['Total Order Sales'] = df['Order ID'].map(order_sales)"
   ]
  },
  {
   "cell_type": "code",
   "execution_count": 1453,
   "id": "36938f10",
   "metadata": {},
   "outputs": [
    {
     "name": "stdout",
     "output_type": "stream",
     "text": [
      "<class 'pandas.core.frame.DataFrame'>\n",
      "Index: 9789 entries, 0 to 9799\n",
      "Data columns (total 25 columns):\n",
      " #   Column             Non-Null Count  Dtype         \n",
      "---  ------             --------------  -----         \n",
      " 0   Row ID             9789 non-null   int64         \n",
      " 1   Order ID           9789 non-null   object        \n",
      " 2   Order Date         9789 non-null   datetime64[ns]\n",
      " 3   Ship Date          9789 non-null   datetime64[ns]\n",
      " 4   Ship Mode          9789 non-null   int32         \n",
      " 5   Customer ID        9789 non-null   object        \n",
      " 6   Customer Name      9789 non-null   object        \n",
      " 7   Segment            9789 non-null   int32         \n",
      " 8   Country            9789 non-null   int32         \n",
      " 9   City               9789 non-null   int32         \n",
      " 10  State              9789 non-null   int32         \n",
      " 11  Postal Code        9789 non-null   float64       \n",
      " 12  Region             9789 non-null   int32         \n",
      " 13  Product ID         9789 non-null   object        \n",
      " 14  Category           9789 non-null   int32         \n",
      " 15  Sub-Category       9789 non-null   int32         \n",
      " 16  Product Name       9789 non-null   int32         \n",
      " 17  Sales              9789 non-null   float64       \n",
      " 18  Year               9789 non-null   int32         \n",
      " 19  Month              9789 non-null   int32         \n",
      " 20  Day                9789 non-null   int32         \n",
      " 21  Weekday            9789 non-null   int32         \n",
      " 22  Shipping Duration  9789 non-null   int64         \n",
      " 23  Items per Order    9789 non-null   int64         \n",
      " 24  Total Order Sales  9789 non-null   float64       \n",
      "dtypes: datetime64[ns](2), float64(3), int32(13), int64(3), object(4)\n",
      "memory usage: 1.5+ MB\n"
     ]
    }
   ],
   "source": [
    "df.info()"
   ]
  },
  {
   "cell_type": "code",
   "execution_count": 1454,
   "id": "cb917687",
   "metadata": {},
   "outputs": [
    {
     "data": {
      "text/plain": [
       "Index(['Row ID', 'Order ID', 'Order Date', 'Ship Date', 'Ship Mode',\n",
       "       'Customer ID', 'Customer Name', 'Segment', 'Country', 'City', 'State',\n",
       "       'Postal Code', 'Region', 'Product ID', 'Category', 'Sub-Category',\n",
       "       'Product Name', 'Sales', 'Year', 'Month', 'Day', 'Weekday',\n",
       "       'Shipping Duration', 'Items per Order', 'Total Order Sales'],\n",
       "      dtype='object')"
      ]
     },
     "execution_count": 1454,
     "metadata": {},
     "output_type": "execute_result"
    }
   ],
   "source": [
    "df.columns"
   ]
  },
  {
   "cell_type": "code",
   "execution_count": 1455,
   "id": "f4c44195-de6b-4529-9f51-485799d1674d",
   "metadata": {},
   "outputs": [
    {
     "data": {
      "text/html": [
       "<div>\n",
       "<style scoped>\n",
       "    .dataframe tbody tr th:only-of-type {\n",
       "        vertical-align: middle;\n",
       "    }\n",
       "\n",
       "    .dataframe tbody tr th {\n",
       "        vertical-align: top;\n",
       "    }\n",
       "\n",
       "    .dataframe thead th {\n",
       "        text-align: right;\n",
       "    }\n",
       "</style>\n",
       "<table border=\"1\" class=\"dataframe\">\n",
       "  <thead>\n",
       "    <tr style=\"text-align: right;\">\n",
       "      <th></th>\n",
       "      <th>Row ID</th>\n",
       "      <th>Order ID</th>\n",
       "      <th>Order Date</th>\n",
       "      <th>Ship Date</th>\n",
       "      <th>Ship Mode</th>\n",
       "      <th>Customer ID</th>\n",
       "      <th>Customer Name</th>\n",
       "      <th>Segment</th>\n",
       "      <th>Country</th>\n",
       "      <th>City</th>\n",
       "      <th>...</th>\n",
       "      <th>Sub-Category</th>\n",
       "      <th>Product Name</th>\n",
       "      <th>Sales</th>\n",
       "      <th>Year</th>\n",
       "      <th>Month</th>\n",
       "      <th>Day</th>\n",
       "      <th>Weekday</th>\n",
       "      <th>Shipping Duration</th>\n",
       "      <th>Items per Order</th>\n",
       "      <th>Total Order Sales</th>\n",
       "    </tr>\n",
       "  </thead>\n",
       "  <tbody>\n",
       "    <tr>\n",
       "      <th>0</th>\n",
       "      <td>1</td>\n",
       "      <td>CA-2017-152156</td>\n",
       "      <td>2017-11-08</td>\n",
       "      <td>2017-11-11</td>\n",
       "      <td>2</td>\n",
       "      <td>CG-12520</td>\n",
       "      <td>Claire Gute</td>\n",
       "      <td>0</td>\n",
       "      <td>0</td>\n",
       "      <td>194</td>\n",
       "      <td>...</td>\n",
       "      <td>4</td>\n",
       "      <td>385</td>\n",
       "      <td>261.960</td>\n",
       "      <td>2017</td>\n",
       "      <td>11</td>\n",
       "      <td>8</td>\n",
       "      <td>2</td>\n",
       "      <td>3</td>\n",
       "      <td>2</td>\n",
       "      <td>762.068</td>\n",
       "    </tr>\n",
       "    <tr>\n",
       "      <th>1</th>\n",
       "      <td>2</td>\n",
       "      <td>CA-2017-152156</td>\n",
       "      <td>2017-11-08</td>\n",
       "      <td>2017-11-11</td>\n",
       "      <td>2</td>\n",
       "      <td>CG-12520</td>\n",
       "      <td>Claire Gute</td>\n",
       "      <td>0</td>\n",
       "      <td>0</td>\n",
       "      <td>194</td>\n",
       "      <td>...</td>\n",
       "      <td>5</td>\n",
       "      <td>830</td>\n",
       "      <td>500.108</td>\n",
       "      <td>2017</td>\n",
       "      <td>11</td>\n",
       "      <td>8</td>\n",
       "      <td>2</td>\n",
       "      <td>3</td>\n",
       "      <td>2</td>\n",
       "      <td>762.068</td>\n",
       "    </tr>\n",
       "    <tr>\n",
       "      <th>2</th>\n",
       "      <td>3</td>\n",
       "      <td>CA-2017-138688</td>\n",
       "      <td>2017-06-12</td>\n",
       "      <td>2017-06-16</td>\n",
       "      <td>2</td>\n",
       "      <td>DV-13045</td>\n",
       "      <td>Darrin Van Huff</td>\n",
       "      <td>1</td>\n",
       "      <td>0</td>\n",
       "      <td>265</td>\n",
       "      <td>...</td>\n",
       "      <td>10</td>\n",
       "      <td>1437</td>\n",
       "      <td>14.620</td>\n",
       "      <td>2017</td>\n",
       "      <td>6</td>\n",
       "      <td>12</td>\n",
       "      <td>0</td>\n",
       "      <td>4</td>\n",
       "      <td>1</td>\n",
       "      <td>14.620</td>\n",
       "    </tr>\n",
       "    <tr>\n",
       "      <th>3</th>\n",
       "      <td>4</td>\n",
       "      <td>US-2016-108966</td>\n",
       "      <td>2016-10-11</td>\n",
       "      <td>2016-10-18</td>\n",
       "      <td>3</td>\n",
       "      <td>SO-20335</td>\n",
       "      <td>Sean O'Donnell</td>\n",
       "      <td>0</td>\n",
       "      <td>0</td>\n",
       "      <td>153</td>\n",
       "      <td>...</td>\n",
       "      <td>16</td>\n",
       "      <td>365</td>\n",
       "      <td>500.108</td>\n",
       "      <td>2016</td>\n",
       "      <td>10</td>\n",
       "      <td>11</td>\n",
       "      <td>1</td>\n",
       "      <td>7</td>\n",
       "      <td>2</td>\n",
       "      <td>522.476</td>\n",
       "    </tr>\n",
       "    <tr>\n",
       "      <th>4</th>\n",
       "      <td>5</td>\n",
       "      <td>US-2016-108966</td>\n",
       "      <td>2016-10-11</td>\n",
       "      <td>2016-10-18</td>\n",
       "      <td>3</td>\n",
       "      <td>SO-20335</td>\n",
       "      <td>Sean O'Donnell</td>\n",
       "      <td>0</td>\n",
       "      <td>0</td>\n",
       "      <td>153</td>\n",
       "      <td>...</td>\n",
       "      <td>14</td>\n",
       "      <td>572</td>\n",
       "      <td>22.368</td>\n",
       "      <td>2016</td>\n",
       "      <td>10</td>\n",
       "      <td>11</td>\n",
       "      <td>1</td>\n",
       "      <td>7</td>\n",
       "      <td>2</td>\n",
       "      <td>522.476</td>\n",
       "    </tr>\n",
       "  </tbody>\n",
       "</table>\n",
       "<p>5 rows × 25 columns</p>\n",
       "</div>"
      ],
      "text/plain": [
       "   Row ID        Order ID Order Date  Ship Date  Ship Mode Customer ID  \\\n",
       "0       1  CA-2017-152156 2017-11-08 2017-11-11          2    CG-12520   \n",
       "1       2  CA-2017-152156 2017-11-08 2017-11-11          2    CG-12520   \n",
       "2       3  CA-2017-138688 2017-06-12 2017-06-16          2    DV-13045   \n",
       "3       4  US-2016-108966 2016-10-11 2016-10-18          3    SO-20335   \n",
       "4       5  US-2016-108966 2016-10-11 2016-10-18          3    SO-20335   \n",
       "\n",
       "     Customer Name  Segment  Country  City  ...  Sub-Category  Product Name  \\\n",
       "0      Claire Gute        0        0   194  ...             4           385   \n",
       "1      Claire Gute        0        0   194  ...             5           830   \n",
       "2  Darrin Van Huff        1        0   265  ...            10          1437   \n",
       "3   Sean O'Donnell        0        0   153  ...            16           365   \n",
       "4   Sean O'Donnell        0        0   153  ...            14           572   \n",
       "\n",
       "     Sales  Year  Month  Day  Weekday  Shipping Duration  Items per Order  \\\n",
       "0  261.960  2017     11    8        2                  3                2   \n",
       "1  500.108  2017     11    8        2                  3                2   \n",
       "2   14.620  2017      6   12        0                  4                1   \n",
       "3  500.108  2016     10   11        1                  7                2   \n",
       "4   22.368  2016     10   11        1                  7                2   \n",
       "\n",
       "   Total Order Sales  \n",
       "0            762.068  \n",
       "1            762.068  \n",
       "2             14.620  \n",
       "3            522.476  \n",
       "4            522.476  \n",
       "\n",
       "[5 rows x 25 columns]"
      ]
     },
     "execution_count": 1455,
     "metadata": {},
     "output_type": "execute_result"
    }
   ],
   "source": [
    "df.head()"
   ]
  },
  {
   "cell_type": "markdown",
   "id": "c5736394",
   "metadata": {},
   "source": [
    "## **Log Transformation of Sales Data**"
   ]
  },
  {
   "cell_type": "code",
   "execution_count": 1456,
   "id": "33cbdd04-0b11-43f1-8ffa-b025784b7baf",
   "metadata": {},
   "outputs": [
    {
     "data": {
      "image/png": "[encoded data removed]",
      "text/plain": [
       "<Figure size 800x600 with 1 Axes>"
      ]
     },
     "metadata": {},
     "output_type": "display_data"
    }
   ],
   "source": [
    "plt.figure(figsize=(8, 6))\n",
    "sns.histplot(df['Sales'], kde=True, color='#211C84', bins=10)\n",
    "plt.title('Sales Distribution')\n",
    "plt.xlabel('Sales')\n",
    "plt.ylabel('Frequency')\n",
    "plt.show()"
   ]
  },
  {
   "cell_type": "code",
   "execution_count": 1457,
   "id": "4f1dc8bb-7108-4906-bd0c-d07ef9518004",
   "metadata": {},
   "outputs": [],
   "source": [
    "df['Sales'] = np.log1p(df['Sales'])\n"
   ]
  },
  {
   "cell_type": "code",
   "execution_count": 1458,
   "id": "ecee9e1f-6b38-4835-afdf-81015418d4e9",
   "metadata": {},
   "outputs": [
    {
     "data": {
      "image/png": "[encoded data removed]",
      "text/plain": [
       "<Figure size 800x600 with 1 Axes>"
      ]
     },
     "metadata": {},
     "output_type": "display_data"
    }
   ],
   "source": [
    "plt.figure(figsize=(8, 6))\n",
    "sns.histplot(df['Sales'], kde=True, color='#211C84', bins=10)\n",
    "plt.title('Sales Distribution')\n",
    "plt.xlabel('Sales')\n",
    "plt.ylabel('Frequency')\n",
    "plt.show()"
   ]
  },
  {
   "cell_type": "markdown",
   "id": "f8712a7e",
   "metadata": {},
   "source": [
    "## **Feature Selection**"
   ]
  },
  {
   "cell_type": "markdown",
   "id": "ef4932cf",
   "metadata": {},
   "source": [
    "### **Dropping Unnecessary Columns**"
   ]
  },
  {
   "cell_type": "code",
   "execution_count": 1459,
   "id": "cc5392db-ad82-4e2a-af57-fc156343c66a",
   "metadata": {},
   "outputs": [],
   "source": [
    "df = df.drop(['Row ID', 'Customer ID', 'Product ID','Customer Name','Order ID','Ship Date'], axis=1)"
   ]
  },
  {
   "cell_type": "code",
   "execution_count": 1460,
   "id": "fd85f70e",
   "metadata": {},
   "outputs": [
    {
     "name": "stdout",
     "output_type": "stream",
     "text": [
      "<class 'pandas.core.frame.DataFrame'>\n",
      "Index: 9789 entries, 0 to 9799\n",
      "Data columns (total 19 columns):\n",
      " #   Column             Non-Null Count  Dtype         \n",
      "---  ------             --------------  -----         \n",
      " 0   Order Date         9789 non-null   datetime64[ns]\n",
      " 1   Ship Mode          9789 non-null   int32         \n",
      " 2   Segment            9789 non-null   int32         \n",
      " 3   Country            9789 non-null   int32         \n",
      " 4   City               9789 non-null   int32         \n",
      " 5   State              9789 non-null   int32         \n",
      " 6   Postal Code        9789 non-null   float64       \n",
      " 7   Region             9789 non-null   int32         \n",
      " 8   Category           9789 non-null   int32         \n",
      " 9   Sub-Category       9789 non-null   int32         \n",
      " 10  Product Name       9789 non-null   int32         \n",
      " 11  Sales              9789 non-null   float64       \n",
      " 12  Year               9789 non-null   int32         \n",
      " 13  Month              9789 non-null   int32         \n",
      " 14  Day                9789 non-null   int32         \n",
      " 15  Weekday            9789 non-null   int32         \n",
      " 16  Shipping Duration  9789 non-null   int64         \n",
      " 17  Items per Order    9789 non-null   int64         \n",
      " 18  Total Order Sales  9789 non-null   float64       \n",
      "dtypes: datetime64[ns](1), float64(3), int32(13), int64(2)\n",
      "memory usage: 1.0 MB\n"
     ]
    }
   ],
   "source": [
    "df.info()"
   ]
  },
  {
   "cell_type": "code",
   "execution_count": 1461,
   "id": "570c1a84",
   "metadata": {},
   "outputs": [
    {
     "data": {
      "text/plain": [
       "Index(['Order Date', 'Ship Mode', 'Segment', 'Country', 'City', 'State',\n",
       "       'Postal Code', 'Region', 'Category', 'Sub-Category', 'Product Name',\n",
       "       'Sales', 'Year', 'Month', 'Day', 'Weekday', 'Shipping Duration',\n",
       "       'Items per Order', 'Total Order Sales'],\n",
       "      dtype='object')"
      ]
     },
     "execution_count": 1461,
     "metadata": {},
     "output_type": "execute_result"
    }
   ],
   "source": [
    "df.columns"
   ]
  },
  {
   "cell_type": "code",
   "execution_count": 1462,
   "id": "a75049a6-2a9c-48de-8c95-23e825431e65",
   "metadata": {},
   "outputs": [
    {
     "data": {
      "text/html": [
       "<div>\n",
       "<style scoped>\n",
       "    .dataframe tbody tr th:only-of-type {\n",
       "        vertical-align: middle;\n",
       "    }\n",
       "\n",
       "    .dataframe tbody tr th {\n",
       "        vertical-align: top;\n",
       "    }\n",
       "\n",
       "    .dataframe thead th {\n",
       "        text-align: right;\n",
       "    }\n",
       "</style>\n",
       "<table border=\"1\" class=\"dataframe\">\n",
       "  <thead>\n",
       "    <tr style=\"text-align: right;\">\n",
       "      <th></th>\n",
       "      <th>Order Date</th>\n",
       "      <th>Ship Mode</th>\n",
       "      <th>Segment</th>\n",
       "      <th>Country</th>\n",
       "      <th>City</th>\n",
       "      <th>State</th>\n",
       "      <th>Postal Code</th>\n",
       "      <th>Region</th>\n",
       "      <th>Category</th>\n",
       "      <th>Sub-Category</th>\n",
       "      <th>Product Name</th>\n",
       "      <th>Sales</th>\n",
       "      <th>Year</th>\n",
       "      <th>Month</th>\n",
       "      <th>Day</th>\n",
       "      <th>Weekday</th>\n",
       "      <th>Shipping Duration</th>\n",
       "      <th>Items per Order</th>\n",
       "      <th>Total Order Sales</th>\n",
       "    </tr>\n",
       "  </thead>\n",
       "  <tbody>\n",
       "    <tr>\n",
       "      <th>0</th>\n",
       "      <td>2017-11-08</td>\n",
       "      <td>2</td>\n",
       "      <td>0</td>\n",
       "      <td>0</td>\n",
       "      <td>194</td>\n",
       "      <td>15</td>\n",
       "      <td>42420.0</td>\n",
       "      <td>2</td>\n",
       "      <td>0</td>\n",
       "      <td>4</td>\n",
       "      <td>385</td>\n",
       "      <td>5.572002</td>\n",
       "      <td>2017</td>\n",
       "      <td>11</td>\n",
       "      <td>8</td>\n",
       "      <td>2</td>\n",
       "      <td>3</td>\n",
       "      <td>2</td>\n",
       "      <td>762.068</td>\n",
       "    </tr>\n",
       "    <tr>\n",
       "      <th>1</th>\n",
       "      <td>2017-11-08</td>\n",
       "      <td>2</td>\n",
       "      <td>0</td>\n",
       "      <td>0</td>\n",
       "      <td>194</td>\n",
       "      <td>15</td>\n",
       "      <td>42420.0</td>\n",
       "      <td>2</td>\n",
       "      <td>0</td>\n",
       "      <td>5</td>\n",
       "      <td>830</td>\n",
       "      <td>6.216822</td>\n",
       "      <td>2017</td>\n",
       "      <td>11</td>\n",
       "      <td>8</td>\n",
       "      <td>2</td>\n",
       "      <td>3</td>\n",
       "      <td>2</td>\n",
       "      <td>762.068</td>\n",
       "    </tr>\n",
       "    <tr>\n",
       "      <th>2</th>\n",
       "      <td>2017-06-12</td>\n",
       "      <td>2</td>\n",
       "      <td>1</td>\n",
       "      <td>0</td>\n",
       "      <td>265</td>\n",
       "      <td>3</td>\n",
       "      <td>90036.0</td>\n",
       "      <td>3</td>\n",
       "      <td>1</td>\n",
       "      <td>10</td>\n",
       "      <td>1437</td>\n",
       "      <td>2.748552</td>\n",
       "      <td>2017</td>\n",
       "      <td>6</td>\n",
       "      <td>12</td>\n",
       "      <td>0</td>\n",
       "      <td>4</td>\n",
       "      <td>1</td>\n",
       "      <td>14.620</td>\n",
       "    </tr>\n",
       "    <tr>\n",
       "      <th>3</th>\n",
       "      <td>2016-10-11</td>\n",
       "      <td>3</td>\n",
       "      <td>0</td>\n",
       "      <td>0</td>\n",
       "      <td>153</td>\n",
       "      <td>8</td>\n",
       "      <td>33311.0</td>\n",
       "      <td>2</td>\n",
       "      <td>0</td>\n",
       "      <td>16</td>\n",
       "      <td>365</td>\n",
       "      <td>6.216822</td>\n",
       "      <td>2016</td>\n",
       "      <td>10</td>\n",
       "      <td>11</td>\n",
       "      <td>1</td>\n",
       "      <td>7</td>\n",
       "      <td>2</td>\n",
       "      <td>522.476</td>\n",
       "    </tr>\n",
       "    <tr>\n",
       "      <th>4</th>\n",
       "      <td>2016-10-11</td>\n",
       "      <td>3</td>\n",
       "      <td>0</td>\n",
       "      <td>0</td>\n",
       "      <td>153</td>\n",
       "      <td>8</td>\n",
       "      <td>33311.0</td>\n",
       "      <td>2</td>\n",
       "      <td>1</td>\n",
       "      <td>14</td>\n",
       "      <td>572</td>\n",
       "      <td>3.151368</td>\n",
       "      <td>2016</td>\n",
       "      <td>10</td>\n",
       "      <td>11</td>\n",
       "      <td>1</td>\n",
       "      <td>7</td>\n",
       "      <td>2</td>\n",
       "      <td>522.476</td>\n",
       "    </tr>\n",
       "  </tbody>\n",
       "</table>\n",
       "</div>"
      ],
      "text/plain": [
       "  Order Date  Ship Mode  Segment  Country  City  State  Postal Code  Region  \\\n",
       "0 2017-11-08          2        0        0   194     15      42420.0       2   \n",
       "1 2017-11-08          2        0        0   194     15      42420.0       2   \n",
       "2 2017-06-12          2        1        0   265      3      90036.0       3   \n",
       "3 2016-10-11          3        0        0   153      8      33311.0       2   \n",
       "4 2016-10-11          3        0        0   153      8      33311.0       2   \n",
       "\n",
       "   Category  Sub-Category  Product Name     Sales  Year  Month  Day  Weekday  \\\n",
       "0         0             4           385  5.572002  2017     11    8        2   \n",
       "1         0             5           830  6.216822  2017     11    8        2   \n",
       "2         1            10          1437  2.748552  2017      6   12        0   \n",
       "3         0            16           365  6.216822  2016     10   11        1   \n",
       "4         1            14           572  3.151368  2016     10   11        1   \n",
       "\n",
       "   Shipping Duration  Items per Order  Total Order Sales  \n",
       "0                  3                2            762.068  \n",
       "1                  3                2            762.068  \n",
       "2                  4                1             14.620  \n",
       "3                  7                2            522.476  \n",
       "4                  7                2            522.476  "
      ]
     },
     "execution_count": 1462,
     "metadata": {},
     "output_type": "execute_result"
    }
   ],
   "source": [
    "df.head()"
   ]
  },
  {
   "cell_type": "markdown",
   "id": "cdd096fb",
   "metadata": {},
   "source": [
    "### **Correlation**"
   ]
  },
  {
   "cell_type": "code",
   "execution_count": 1463,
   "id": "4e6918c5-d7d0-49bd-92db-41f19fae05ec",
   "metadata": {},
   "outputs": [
    {
     "name": "stdout",
     "output_type": "stream",
     "text": [
      "Total Order Sales: 0.3811\n",
      "Sub-Category: 0.1567\n",
      "Region: 0.0497\n",
      "State: 0.0313\n",
      "City: 0.0281\n",
      "Items per Order: 0.0202\n",
      "Shipping Duration: 0.0138\n",
      "Month: 0.012\n",
      "Postal Code: 0.0086\n",
      "Ship Mode: 0.007\n",
      "Product Name: 0.0055\n",
      "Category: 0.005\n",
      "Year: 0.0047\n",
      "Day: 0.0028\n",
      "Weekday: 0.0025\n",
      "Order Date: 0.0016\n",
      "Segment: 0.0001\n",
      "Country: nan\n"
     ]
    }
   ],
   "source": [
    "correlations = df.corr()['Sales'].abs().drop('Sales').sort_values(ascending=False)\n",
    "selected_features = correlations.head(35).index.tolist()\n",
    "for col in correlations.index:   \n",
    "    print(f\"{col}: {round(correlations[col], 4)}\")"
   ]
  },
  {
   "cell_type": "code",
   "execution_count": 1464,
   "id": "c577c470-54c4-458c-b0f2-76f20e9b7c8d",
   "metadata": {},
   "outputs": [
    {
     "data": {
      "image/png": "[encoded data removed]",
      "text/plain": [
       "<Figure size 1500x1500 with 2 Axes>"
      ]
     },
     "metadata": {},
     "output_type": "display_data"
    }
   ],
   "source": [
    "df=df.drop('Country',axis=1)\n",
    "custom_palette = [\"#211C84\", \"#4D55CC\", \"#7A73D1\", \"#B5A8D5\"]\n",
    "plt.figure(figsize=(15, 15))\n",
    "sns.heatmap(df.corr(), annot=True, cmap=sns.color_palette(custom_palette, as_cmap=True), center=0)\n",
    "plt.title('Correlation Heatmap for Selected Features')\n",
    "plt.show()\n"
   ]
  }
 ],
 "metadata": {
  "kernelspec": {
   "display_name": "Python 3",
   "language": "python",
   "name": "python3"
  },
  "language_info": {
   "codemirror_mode": {
    "name": "ipython",
    "version": 3
   },
   "file_extension": ".py",
   "mimetype": "text/x-python",
   "name": "python",
   "nbconvert_exporter": "python",
   "pygments_lexer": "ipython3",
   "version": "3.11.0"
  }
 },
 "nbformat": 4,
 "nbformat_minor": 5
}
